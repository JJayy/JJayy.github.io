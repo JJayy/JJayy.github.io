{
  "cells": [
    {
      "cell_type": "markdown",
      "metadata": {
        "id": "view-in-github",
        "colab_type": "text"
      },
      "source": [
        "<a href=\"https://colab.research.google.com/github/JJayy/JJayy.github.io/blob/master/food.ipynb\" target=\"_parent\"><img src=\"https://colab.research.google.com/assets/colab-badge.svg\" alt=\"Open In Colab\"/></a>"
      ]
    },
    {
      "cell_type": "markdown",
      "id": "proprietary-brisbane",
      "metadata": {
        "id": "proprietary-brisbane"
      },
      "source": [
        "## Function 정의\n",
        "\n",
        "- seed_everything() : seed 고정 함수\n",
        "- generate_label() : label 생성 함수\n",
        "- feature_preprocessing() : 데이터 전처리 함수(label encoding, 결측치 처리)\n",
        "- feature_selection() : 피처 선택 함수\n",
        "- feature_engineering2() : 피처 엔지니어링 함수\n"
      ]
    },
    {
      "cell_type": "markdown",
      "id": "stainless-grave",
      "metadata": {
        "id": "stainless-grave"
      },
      "source": [
        "## Library Import"
      ]
    },
    {
      "cell_type": "code",
      "execution_count": null,
      "id": "registered-third",
      "metadata": {
        "id": "registered-third",
        "outputId": "ec1da561-6b5c-4faf-c6ca-97e6d071eda2"
      },
      "outputs": [
        {
          "output_type": "display_data",
          "data": {
            "text/plain": "<IPython.core.display.HTML object>",
            "text/html": "<style type='text/css'>\n.datatable table.frame { margin-bottom: 0; }\n.datatable table.frame thead { border-bottom: none; }\n.datatable table.frame tr.coltypes td {  color: #FFFFFF;  line-height: 6px;  padding: 0 0.5em;}\n.datatable .bool    { background: #DDDD99; }\n.datatable .object  { background: #565656; }\n.datatable .int     { background: #5D9E5D; }\n.datatable .float   { background: #4040CC; }\n.datatable .str     { background: #CC4040; }\n.datatable .row_index {  background: var(--jp-border-color3);  border-right: 1px solid var(--jp-border-color0);  color: var(--jp-ui-font-color3);  font-size: 9px;}\n.datatable .frame tr.coltypes .row_index {  background: var(--jp-border-color0);}\n.datatable th:nth-child(2) { padding-left: 12px; }\n.datatable .hellipsis {  color: var(--jp-cell-editor-border-color);}\n.datatable .vellipsis {  background: var(--jp-layout-color0);  color: var(--jp-cell-editor-border-color);}\n.datatable .na {  color: var(--jp-cell-editor-border-color);  font-size: 80%;}\n.datatable .footer { font-size: 9px; }\n.datatable .frame_dimensions {  background: var(--jp-border-color3);  border-top: 1px solid var(--jp-border-color0);  color: var(--jp-ui-font-color3);  display: inline-block;  opacity: 0.6;  padding: 1px 10px 1px 5px;}\n</style>\n"
          },
          "metadata": {}
        }
      ],
      "source": [
        "# Suppress warnings \n",
        "import warnings\n",
        "warnings.filterwarnings('ignore')\n",
        "\n",
        "import os, sys, gc, warnings, random\n",
        "\n",
        "import datetime\n",
        "import dateutil.relativedelta\n",
        "\n",
        "# Data manipulation\n",
        "import pandas as pd \n",
        "import numpy as np\n",
        "\n",
        "# Visualization\n",
        "import matplotlib.pyplot as plt\n",
        "import seaborn as sns\n",
        "\n",
        "# Machine learning\n",
        "from sklearn.pipeline import Pipeline\n",
        "from sklearn.preprocessing import MinMaxScaler, LabelEncoder\n",
        "from sklearn.impute import SimpleImputer\n",
        "from sklearn.metrics import precision_score, recall_score, f1_score, roc_auc_score, precision_recall_curve, roc_curve\n",
        "from sklearn.model_selection import train_test_split, cross_val_score, KFold, StratifiedKFold, GroupKFold\n",
        "from sklearn.ensemble import RandomForestClassifier\n",
        "\n",
        "import lightgbm as lgb\n",
        "\n",
        "from tqdm.notebook import trange, tqdm\n",
        "\n",
        "from IPython.display import display\n",
        "\n",
        "%matplotlib inline\n",
        "\n",
        "pd.options.display.max_rows = 10000\n",
        "pd.options.display.max_columns = 1000\n",
        "pd.options.display.max_colwidth = 1000"
      ]
    },
    {
      "cell_type": "markdown",
      "id": "aerial-brooks",
      "metadata": {
        "id": "aerial-brooks"
      },
      "source": [
        "## Fix Seed 함수 정의"
      ]
    },
    {
      "cell_type": "code",
      "execution_count": null,
      "id": "controlling-alpha",
      "metadata": {
        "id": "controlling-alpha"
      },
      "outputs": [],
      "source": [
        "def seed_everything(seed=0):\n",
        "    random.seed(seed)\n",
        "    os.environ['PYTHONHASHSEED'] = str(seed)\n",
        "    np.random.seed(seed)\n",
        "    \n",
        "SEED = 42\n",
        "seed_everything(SEED)"
      ]
    },
    {
      "cell_type": "markdown",
      "id": "surgical-arcade",
      "metadata": {
        "id": "surgical-arcade"
      },
      "source": [
        "## 레이블 생성 함수 정의\n",
        "\n",
        "- 레이블 생성 함수는 연월을 인자로 받아서 고객 아이디별로 총 구매액이 인자로 받는 구매액 임계값을 넘는지 여부를 바이너리 레이블로 생성하는 함수"
      ]
    },
    {
      "cell_type": "code",
      "execution_count": null,
      "id": "spatial-express",
      "metadata": {
        "id": "spatial-express"
      },
      "outputs": [],
      "source": [
        "TOTAL_THRES = 340\n",
        "\n",
        "'''\n",
        "    입력인자로 받는 year_month에 대해 고객 ID별로 총 구매액이\n",
        "    구매액 임계값을 넘는지 여부의 binary label을 생성하는 함수\n",
        "'''\n",
        "def generate_label(df, year_month, total_thres=TOTAL_THRES, print_log=False):\n",
        "    df = df.copy()\n",
        "    \n",
        "    # year_month에 해당하는 label 데이터 생성\n",
        "    df['year_month'] = df['order_date'].dt.strftime('%Y-%m')\n",
        "    df.reset_index(drop=True, inplace=True)\n",
        "\n",
        "    # year_month 이전 월의 고객 ID 추출\n",
        "    cust = df[df['year_month']<year_month]['customer_id'].unique()\n",
        "    # year_month에 해당하는 데이터 선택\n",
        "    df = df[df['year_month']==year_month]\n",
        "    \n",
        "    # label 데이터프레임 생성\n",
        "    label = pd.DataFrame({'customer_id':cust})\n",
        "    label['year_month'] = year_month\n",
        "    \n",
        "    # year_month에 해당하는 고객 ID의 구매액의 합 계산\n",
        "    grped = df.groupby(['customer_id','year_month'], as_index=False)[['total']].sum()\n",
        "    \n",
        "    # label 데이터프레임과 merge하고 구매액 임계값을 넘었는지 여부로 label 생성\n",
        "    label = label.merge(grped, on=['customer_id','year_month'], how='left')\n",
        "    label['total'].fillna(0.0, inplace=True)\n",
        "    label['label'] = (label['total'] > total_thres).astype(int)\n",
        "\n",
        "    # 고객 ID로 정렬\n",
        "    label = label.sort_values('customer_id').reset_index(drop=True)\n",
        "    if print_log: print(f'{year_month} - final label shape: {label.shape}')\n",
        "    \n",
        "    return label"
      ]
    },
    {
      "cell_type": "markdown",
      "id": "inside-surface",
      "metadata": {
        "id": "inside-surface"
      },
      "source": [
        "## 데이터 전처리 함수 정의\n",
        "- 범주형 변수 레이블 인코딩\n",
        "- 결측치 중위값으로 채움"
      ]
    },
    {
      "cell_type": "code",
      "execution_count": null,
      "id": "revised-paris",
      "metadata": {
        "id": "revised-paris"
      },
      "outputs": [],
      "source": [
        "def feature_preprocessing(train, test, features, do_imputing=True):\n",
        "    x_tr = train.copy()\n",
        "    x_te = test.copy()\n",
        "    \n",
        "    # 범주형 피처 이름을 저장할 변수\n",
        "    cate_cols = []\n",
        "\n",
        "    # 레이블 인코딩\n",
        "    for f in features:\n",
        "        if x_tr[f].dtype.name == 'object': # 데이터 타입이 object(str)이면 레이블 인코딩\n",
        "            cate_cols.append(f)\n",
        "            le = LabelEncoder()\n",
        "            # train + test 데이터를 합쳐서 레이블 인코딩 함수에 fit\n",
        "            le.fit(list(x_tr[f].values) + list(x_te[f].values))\n",
        "            \n",
        "            # train 데이터 레이블 인코딩 변환 수행\n",
        "            x_tr[f] = le.transform(list(x_tr[f].values))\n",
        "            \n",
        "            # test 데이터 레이블 인코딩 변환 수행\n",
        "            x_te[f] = le.transform(list(x_te[f].values))\n",
        "\n",
        "    print('categorical feature:', cate_cols)\n",
        "\n",
        "    if do_imputing:\n",
        "        # 중위값으로 결측치 채우기\n",
        "        imputer = SimpleImputer(strategy='median')\n",
        "\n",
        "        x_tr[features] = imputer.fit_transform(x_tr[features])\n",
        "        x_te[features] = imputer.transform(x_te[features])\n",
        "\n",
        "    x_tr = x_tr.drop(columns=['customer_id', 'year_month'])\n",
        "    x_te = x_te.drop(columns=['customer_id', 'year_month'])\n",
        "    \n",
        "    return x_tr, x_te"
      ]
    },
    {
      "cell_type": "markdown",
      "id": "breathing-taylor",
      "metadata": {
        "id": "breathing-taylor"
      },
      "source": [
        "## 피처 엔지니어링 함수 정의\n",
        "- Pandas groupby aggregation 함수를 사용한 피처 엔지니어링"
      ]
    },
    {
      "cell_type": "code",
      "execution_count": null,
      "metadata": {
        "id": "yICxXZv4UYER"
      },
      "outputs": [],
      "source": [
        "def feature_selection(train, test):\n",
        "    cor_matrix = train.corr().abs()\n",
        "    upper_tri = cor_matrix.where(np.triu(np.ones(cor_matrix.shape),k=1).astype(np.bool))\n",
        "    to_drop = [column for column in upper_tri.columns if any(upper_tri[column] > 0.8)]\n",
        "\n",
        "    tr = train.drop(columns=to_drop)\n",
        "    ts = test.drop(columns=to_drop)\n",
        "    features = tr.columns\n",
        "\n",
        "    return tr, ts, features\n"
      ],
      "id": "yICxXZv4UYER"
    },
    {
      "cell_type": "code",
      "execution_count": null,
      "id": "suburban-plane",
      "metadata": {
        "id": "suburban-plane"
      },
      "outputs": [],
      "source": [
        "def feature_engineering2(df, year_month):\n",
        "    df = df.copy()\n",
        "\n",
        "    df['month'] = df['order_date'].dt.month\n",
        "    df['year_month'] = df['order_date'].dt.strftime('%Y-%m')\n",
        "    \n",
        "    #\n",
        "    df['order_ts'] = df['order_date'].astype(np.int64)//1e9\n",
        "    df['order_ts_diff'] = df.groupby(['customer_id'])['order_ts'].diff()\n",
        "    df['quantity_diff'] = df.groupby(['customer_id'])['quantity'].diff()\n",
        "    df['price_diff'] = df.groupby(['customer_id'])['price'].diff()\n",
        "    df['total_diff'] = df.groupby(['customer_id'])['total'].diff()\n",
        "\n",
        "    \n",
        "    # customer_id 기준으로 pandas group by 후 total, quantity, price 누적합 계산\n",
        "    df['cumsum_total_by_cust_id'] = df.groupby(['customer_id'])['total'].cumsum()\n",
        "    df['cumsum_quantity_by_cust_id'] = df.groupby(['customer_id'])['quantity'].cumsum()\n",
        "    df['cumsum_price_by_cust_id'] = df.groupby(['customer_id'])['price'].cumsum()\n",
        "\n",
        "    # product_id 기준으로 pandas group by 후 total, quantity, price 누적합 계산\n",
        "    df['cumsum_total_by_prod_id'] = df.groupby(['product_id'])['total'].cumsum()\n",
        "    df['cumsum_quantity_by_prod_id'] = df.groupby(['product_id'])['quantity'].cumsum()\n",
        "    df['cumsum_price_by_prod_id'] = df.groupby(['product_id'])['price'].cumsum()\n",
        "    \n",
        "    # order_id 기준으로 pandas group by 후 total, quantity, price 누적합 계산\n",
        "    df['cumsum_total_by_order_id'] = df.groupby(['order_id'])['total'].cumsum()\n",
        "    df['cumsum_quantity_by_order_id'] = df.groupby(['order_id'])['quantity'].cumsum()\n",
        "    df['cumsum_price_by_order_id'] = df.groupby(['order_id'])['price'].cumsum()   \n",
        "\n",
        "    \n",
        "    # customer_id 기준으로 pandas group by 후 total, quantity, price 누적합 계산\n",
        "    df['cumcount_total_by_cust_id'] = df.groupby(['customer_id'])['total'].cumcount()\n",
        "    df['cumcount_quantity_by_cust_id'] = df.groupby(['customer_id'])['quantity'].cumcount()\n",
        "    df['cumcount_price_by_cust_id'] = df.groupby(['customer_id'])['price'].cumcount()\n",
        "\n",
        "    # product_id 기준으로 pandas group by 후 total, quantity, price 누적합 계산\n",
        "    df['cumcount_total_by_prod_id'] = df.groupby(['product_id'])['total'].cumcount()\n",
        "    df['cumcount_quantity_by_prod_id'] = df.groupby(['product_id'])['quantity'].cumcount()\n",
        "    df['cumcount_price_by_prod_id'] = df.groupby(['product_id'])['price'].cumcount()\n",
        "    \n",
        "    # order_id 기준으로 pandas group by 후 total, quantity, price 누적합 계산\n",
        "    df['cumcount_total_by_order_id'] = df.groupby(['order_id'])['total'].cumcount()\n",
        "    df['cumcount_quantity_by_order_id'] = df.groupby(['order_id'])['quantity'].cumcount()\n",
        "    df['cumcount_price_by_order_id'] = df.groupby(['order_id'])['price'].cumcount()\n",
        "\n",
        "\n",
        "    \n",
        "    # year_month 이전 월 계산\n",
        "    d = datetime.datetime.strptime(year_month, \"%Y-%m\")\n",
        "    prev_ym = d - dateutil.relativedelta.relativedelta(months=1)\n",
        "    prev_ym = prev_ym.strftime('%Y-%m')\n",
        "    \n",
        "    # train, test 데이터 선택\n",
        "    train = df[df['order_date'] < prev_ym]\n",
        "    test = df[df['order_date'] < year_month]\n",
        "    \n",
        "    # train, test 레이블 데이터 생성\n",
        "    train_label = generate_label(df, prev_ym)[['customer_id','year_month','label']]\n",
        "    test_label = generate_label(df, year_month)[['customer_id','year_month','label']]\n",
        "    \n",
        "    # group by aggregation 함수 선언\n",
        "    agg_func = ['mean','max','min','sum','count','std','skew','sem', 'var', 'median']\n",
        "    agg_dict = {\n",
        "        'quantity': agg_func,\n",
        "        'price': agg_func,\n",
        "        'total': agg_func,\n",
        "        'cumsum_total_by_cust_id': agg_func,\n",
        "        'cumsum_quantity_by_cust_id': agg_func,\n",
        "        'cumsum_price_by_cust_id': agg_func,\n",
        "        'cumsum_total_by_prod_id': agg_func,\n",
        "        'cumsum_quantity_by_prod_id': agg_func,\n",
        "        'cumsum_price_by_prod_id': agg_func,\n",
        "        'cumsum_total_by_order_id': agg_func,\n",
        "        'cumsum_quantity_by_order_id': agg_func,\n",
        "        'cumsum_price_by_order_id': agg_func,\n",
        "        'cumcount_total_by_cust_id': agg_func,\n",
        "        'cumcount_quantity_by_cust_id': agg_func,\n",
        "        'cumcount_price_by_cust_id': agg_func,\n",
        "        'cumcount_total_by_prod_id': agg_func,\n",
        "        'cumcount_quantity_by_prod_id': agg_func,\n",
        "        'cumcount_price_by_prod_id': agg_func,\n",
        "        'cumcount_total_by_order_id': agg_func,\n",
        "        'cumcount_quantity_by_order_id': agg_func,\n",
        "        'cumcount_price_by_order_id': agg_func,\n",
        "        'order_id': ['nunique'],\n",
        "        'product_id': ['nunique'],\n",
        "        'month': [lambda x:x.value_counts().index[0]],\n",
        "        'year_month': [lambda x:x.value_counts().index[0]],\n",
        "        'order_ts': ['first', 'last'],\n",
        "        'order_ts_diff': agg_func,\n",
        "        'quantity_diff': agg_func,\n",
        "        'price_diff': agg_func,\n",
        "        'total_diff': agg_func,\n",
        "    }\n",
        "    all_train_data = pd.DataFrame()\n",
        "    \n",
        "    for i, tr_ym in enumerate(train_label['year_month'].unique()):\n",
        "        # group by aggretation 함수로 train 데이터 피처 생성\n",
        "        train_agg = train.loc[train['order_date'] < tr_ym].groupby(['customer_id']).agg(agg_dict)\n",
        "\n",
        "        new_cols = []\n",
        "        for col in agg_dict.keys():\n",
        "            for stat in agg_dict[col]:\n",
        "                if type(stat) is str:\n",
        "                    new_cols.append(f'{col}-{stat}')\n",
        "                else:\n",
        "                    new_cols.append(f'{col}-mode')\n",
        "\n",
        "        train_agg.columns = new_cols\n",
        "        train_agg.reset_index(inplace = True)\n",
        "        \n",
        "        train_agg['year_month'] = tr_ym\n",
        "        \n",
        "        all_train_data = all_train_data.append(train_agg)\n",
        "    \n",
        "    all_train_data = train_label.merge(all_train_data, on=['customer_id', 'year_month'], how='left')\n",
        "    features = all_train_data.drop(columns=['customer_id', 'label', 'year_month']).columns\n",
        "    print(len(features))\n",
        "    # group by aggretation 함수로 test 데이터 피처 생성\n",
        "    test_agg = test.groupby(['customer_id']).agg(agg_dict)\n",
        "    test_agg.columns = new_cols\n",
        "    \n",
        "    test_data = test_label.merge(test_agg, on=['customer_id'], how='left')\n",
        "\n",
        "    # feature selection 진행\n",
        "    all_train_data, test_data, features = feature_selection(all_train_data, test_data)\n",
        "    features = all_train_data.drop(columns=['customer_id', 'label', 'year_month']).columns\n",
        "\n",
        "    # train, test 데이터 전처리\n",
        "    x_tr, x_te = feature_preprocessing(all_train_data, test_data, features)\n",
        "    \n",
        "    print('x_tr.shape', x_tr.shape, ', x_te.shape', x_te.shape)\n",
        "    print('features', len(features))\n",
        "    \n",
        "    return x_tr, x_te, all_train_data['label'], features"
      ]
    },
    {
      "cell_type": "markdown",
      "id": "finnish-socket",
      "metadata": {
        "id": "finnish-socket"
      },
      "source": [
        "## Train 데이터 읽기\n",
        "- 9개의 feature를 가진 780502개의 train data"
      ]
    },
    {
      "cell_type": "code",
      "execution_count": null,
      "id": "bearing-cardiff",
      "metadata": {
        "id": "bearing-cardiff",
        "outputId": "4d077d19-88d8-4a36-ac79-278c1732df85"
      },
      "outputs": [
        {
          "output_type": "stream",
          "name": "stdout",
          "text": [
            "(780502, 9)\n"
          ]
        },
        {
          "output_type": "execute_result",
          "data": {
            "text/plain": [
              "  order_id product_id                          description  quantity  \\\n",
              "0   489434      85048  15CM CHRISTMAS GLASS BALL 20 LIGHTS        12   \n",
              "1   489434     79323P                   PINK CHERRY LIGHTS        12   \n",
              "2   489434     79323W                  WHITE CHERRY LIGHTS        12   \n",
              "3   489434      22041         RECORD FRAME 7\" SINGLE SIZE         48   \n",
              "4   489434      21232       STRAWBERRY CERAMIC TRINKET BOX        24   \n",
              "\n",
              "           order_date    price  customer_id         country   total  \n",
              "0 2009-12-01 07:45:00  11.4675        13085  United Kingdom  137.61  \n",
              "1 2009-12-01 07:45:00  11.1375        13085  United Kingdom  133.65  \n",
              "2 2009-12-01 07:45:00  11.1375        13085  United Kingdom  133.65  \n",
              "3 2009-12-01 07:45:00   3.4650        13085  United Kingdom  166.32  \n",
              "4 2009-12-01 07:45:00   2.0625        13085  United Kingdom   49.50  "
            ],
            "text/html": "<div>\n<style scoped>\n    .dataframe tbody tr th:only-of-type {\n        vertical-align: middle;\n    }\n\n    .dataframe tbody tr th {\n        vertical-align: top;\n    }\n\n    .dataframe thead th {\n        text-align: right;\n    }\n</style>\n<table border=\"1\" class=\"dataframe\">\n  <thead>\n    <tr style=\"text-align: right;\">\n      <th></th>\n      <th>order_id</th>\n      <th>product_id</th>\n      <th>description</th>\n      <th>quantity</th>\n      <th>order_date</th>\n      <th>price</th>\n      <th>customer_id</th>\n      <th>country</th>\n      <th>total</th>\n    </tr>\n  </thead>\n  <tbody>\n    <tr>\n      <th>0</th>\n      <td>489434</td>\n      <td>85048</td>\n      <td>15CM CHRISTMAS GLASS BALL 20 LIGHTS</td>\n      <td>12</td>\n      <td>2009-12-01 07:45:00</td>\n      <td>11.4675</td>\n      <td>13085</td>\n      <td>United Kingdom</td>\n      <td>137.61</td>\n    </tr>\n    <tr>\n      <th>1</th>\n      <td>489434</td>\n      <td>79323P</td>\n      <td>PINK CHERRY LIGHTS</td>\n      <td>12</td>\n      <td>2009-12-01 07:45:00</td>\n      <td>11.1375</td>\n      <td>13085</td>\n      <td>United Kingdom</td>\n      <td>133.65</td>\n    </tr>\n    <tr>\n      <th>2</th>\n      <td>489434</td>\n      <td>79323W</td>\n      <td>WHITE CHERRY LIGHTS</td>\n      <td>12</td>\n      <td>2009-12-01 07:45:00</td>\n      <td>11.1375</td>\n      <td>13085</td>\n      <td>United Kingdom</td>\n      <td>133.65</td>\n    </tr>\n    <tr>\n      <th>3</th>\n      <td>489434</td>\n      <td>22041</td>\n      <td>RECORD FRAME 7\" SINGLE SIZE</td>\n      <td>48</td>\n      <td>2009-12-01 07:45:00</td>\n      <td>3.4650</td>\n      <td>13085</td>\n      <td>United Kingdom</td>\n      <td>166.32</td>\n    </tr>\n    <tr>\n      <th>4</th>\n      <td>489434</td>\n      <td>21232</td>\n      <td>STRAWBERRY CERAMIC TRINKET BOX</td>\n      <td>24</td>\n      <td>2009-12-01 07:45:00</td>\n      <td>2.0625</td>\n      <td>13085</td>\n      <td>United Kingdom</td>\n      <td>49.50</td>\n    </tr>\n  </tbody>\n</table>\n</div>"
          },
          "metadata": {},
          "execution_count": 7
        }
      ],
      "source": [
        "data = pd.read_csv(\"../input/train.csv\", parse_dates=[\"order_date\"])\n",
        "print(data.shape) # data shape 확인\n",
        "data.head()"
      ]
    },
    {
      "cell_type": "markdown",
      "id": "official-semester",
      "metadata": {
        "id": "official-semester"
      },
      "source": [
        "## Pandas info() 함수로 데이터 타입 및 null 체크"
      ]
    },
    {
      "cell_type": "code",
      "execution_count": null,
      "id": "basic-repeat",
      "metadata": {
        "id": "basic-repeat",
        "outputId": "705c3c67-f31f-48e6-fcc6-fbd2e6e7cb22"
      },
      "outputs": [
        {
          "output_type": "stream",
          "name": "stdout",
          "text": [
            "<class 'pandas.core.frame.DataFrame'>\nRangeIndex: 780502 entries, 0 to 780501\nData columns (total 9 columns):\n #   Column       Non-Null Count   Dtype         \n---  ------       --------------   -----         \n 0   order_id     780502 non-null  object        \n 1   product_id   780502 non-null  object        \n 2   description  780502 non-null  object        \n 3   quantity     780502 non-null  int64         \n 4   order_date   780502 non-null  datetime64[ns]\n 5   price        780502 non-null  float64       \n 6   customer_id  780502 non-null  int64         \n 7   country      780502 non-null  object        \n 8   total        780502 non-null  float64       \ndtypes: datetime64[ns](1), float64(2), int64(2), object(4)\nmemory usage: 53.6+ MB\n"
          ]
        }
      ],
      "source": [
        "data.info()"
      ]
    },
    {
      "cell_type": "markdown",
      "id": "comparable-consciousness",
      "metadata": {
        "id": "comparable-consciousness"
      },
      "source": [
        "## Pandas isna(), sum() 함수로 null 데이터 개수 체크"
      ]
    },
    {
      "cell_type": "code",
      "execution_count": null,
      "id": "disturbed-pharmaceutical",
      "metadata": {
        "id": "disturbed-pharmaceutical",
        "outputId": "a6e57fc0-4d8e-40cb-8acc-c39bd4329fab"
      },
      "outputs": [
        {
          "output_type": "execute_result",
          "data": {
            "text/plain": [
              "order_id       0\n",
              "product_id     0\n",
              "description    0\n",
              "quantity       0\n",
              "order_date     0\n",
              "price          0\n",
              "customer_id    0\n",
              "country        0\n",
              "total          0\n",
              "dtype: int64"
            ]
          },
          "metadata": {},
          "execution_count": 11
        }
      ],
      "source": [
        "data.isna().sum()"
      ]
    },
    {
      "cell_type": "markdown",
      "id": "dimensional-nursery",
      "metadata": {
        "id": "dimensional-nursery"
      },
      "source": [
        "## Pandas describe() 함수에 include='all' 인자 설정으로 수치형, 범주형 데이터 기본 통계량 확인"
      ]
    },
    {
      "cell_type": "code",
      "execution_count": null,
      "id": "circular-colleague",
      "metadata": {
        "id": "circular-colleague",
        "outputId": "48623b0d-43bf-4c1c-ea1e-31defcfdb1d3"
      },
      "outputs": [
        {
          "output_type": "execute_result",
          "data": {
            "text/plain": [
              "       order_id product_id                         description       quantity  \\\n",
              "count    780502     780502                              780502  780502.000000   \n",
              "unique    43955       4645                                5297            NaN   \n",
              "top      576339     85123A  WHITE HANGING HEART T-LIGHT HOLDER            NaN   \n",
              "freq        542       5096                                5096            NaN   \n",
              "first       NaN        NaN                                 NaN            NaN   \n",
              "last        NaN        NaN                                 NaN            NaN   \n",
              "mean        NaN        NaN                                 NaN      12.623307   \n",
              "std         NaN        NaN                                 NaN     143.906302   \n",
              "min         NaN        NaN                                 NaN  -74215.000000   \n",
              "25%         NaN        NaN                                 NaN       2.000000   \n",
              "50%         NaN        NaN                                 NaN       5.000000   \n",
              "75%         NaN        NaN                                 NaN      12.000000   \n",
              "max         NaN        NaN                                 NaN   74215.000000   \n",
              "\n",
              "                 order_date          price    customer_id         country  \\\n",
              "count                780502  780502.000000  780502.000000          780502   \n",
              "unique                40615            NaN            NaN              41   \n",
              "top     2011-11-14 15:27:00            NaN            NaN  United Kingdom   \n",
              "freq                    543            NaN            NaN          700317   \n",
              "first   2009-12-01 07:45:00            NaN            NaN             NaN   \n",
              "last    2011-11-30 17:42:00            NaN            NaN             NaN   \n",
              "mean                    NaN       6.140931   15313.393466             NaN   \n",
              "std                     NaN     119.042266    1695.765797             NaN   \n",
              "min                     NaN       0.000000   12346.000000             NaN   \n",
              "25%                     NaN       2.062500   13963.000000             NaN   \n",
              "50%                     NaN       3.217500   15239.000000             NaN   \n",
              "75%                     NaN       6.187500   16788.000000             NaN   \n",
              "max                     NaN   64300.500000   18287.000000             NaN   \n",
              "\n",
              "                total  \n",
              "count   780502.000000  \n",
              "unique            NaN  \n",
              "top               NaN  \n",
              "freq              NaN  \n",
              "first             NaN  \n",
              "last              NaN  \n",
              "mean        33.715373  \n",
              "std        274.207403  \n",
              "min    -127352.940000  \n",
              "25%          7.260000  \n",
              "50%         19.470000  \n",
              "75%         32.175000  \n",
              "max     127352.940000  "
            ],
            "text/html": "<div>\n<style scoped>\n    .dataframe tbody tr th:only-of-type {\n        vertical-align: middle;\n    }\n\n    .dataframe tbody tr th {\n        vertical-align: top;\n    }\n\n    .dataframe thead th {\n        text-align: right;\n    }\n</style>\n<table border=\"1\" class=\"dataframe\">\n  <thead>\n    <tr style=\"text-align: right;\">\n      <th></th>\n      <th>order_id</th>\n      <th>product_id</th>\n      <th>description</th>\n      <th>quantity</th>\n      <th>order_date</th>\n      <th>price</th>\n      <th>customer_id</th>\n      <th>country</th>\n      <th>total</th>\n    </tr>\n  </thead>\n  <tbody>\n    <tr>\n      <th>count</th>\n      <td>780502</td>\n      <td>780502</td>\n      <td>780502</td>\n      <td>780502.000000</td>\n      <td>780502</td>\n      <td>780502.000000</td>\n      <td>780502.000000</td>\n      <td>780502</td>\n      <td>780502.000000</td>\n    </tr>\n    <tr>\n      <th>unique</th>\n      <td>43955</td>\n      <td>4645</td>\n      <td>5297</td>\n      <td>NaN</td>\n      <td>40615</td>\n      <td>NaN</td>\n      <td>NaN</td>\n      <td>41</td>\n      <td>NaN</td>\n    </tr>\n    <tr>\n      <th>top</th>\n      <td>576339</td>\n      <td>85123A</td>\n      <td>WHITE HANGING HEART T-LIGHT HOLDER</td>\n      <td>NaN</td>\n      <td>2011-11-14 15:27:00</td>\n      <td>NaN</td>\n      <td>NaN</td>\n      <td>United Kingdom</td>\n      <td>NaN</td>\n    </tr>\n    <tr>\n      <th>freq</th>\n      <td>542</td>\n      <td>5096</td>\n      <td>5096</td>\n      <td>NaN</td>\n      <td>543</td>\n      <td>NaN</td>\n      <td>NaN</td>\n      <td>700317</td>\n      <td>NaN</td>\n    </tr>\n    <tr>\n      <th>first</th>\n      <td>NaN</td>\n      <td>NaN</td>\n      <td>NaN</td>\n      <td>NaN</td>\n      <td>2009-12-01 07:45:00</td>\n      <td>NaN</td>\n      <td>NaN</td>\n      <td>NaN</td>\n      <td>NaN</td>\n    </tr>\n    <tr>\n      <th>last</th>\n      <td>NaN</td>\n      <td>NaN</td>\n      <td>NaN</td>\n      <td>NaN</td>\n      <td>2011-11-30 17:42:00</td>\n      <td>NaN</td>\n      <td>NaN</td>\n      <td>NaN</td>\n      <td>NaN</td>\n    </tr>\n    <tr>\n      <th>mean</th>\n      <td>NaN</td>\n      <td>NaN</td>\n      <td>NaN</td>\n      <td>12.623307</td>\n      <td>NaN</td>\n      <td>6.140931</td>\n      <td>15313.393466</td>\n      <td>NaN</td>\n      <td>33.715373</td>\n    </tr>\n    <tr>\n      <th>std</th>\n      <td>NaN</td>\n      <td>NaN</td>\n      <td>NaN</td>\n      <td>143.906302</td>\n      <td>NaN</td>\n      <td>119.042266</td>\n      <td>1695.765797</td>\n      <td>NaN</td>\n      <td>274.207403</td>\n    </tr>\n    <tr>\n      <th>min</th>\n      <td>NaN</td>\n      <td>NaN</td>\n      <td>NaN</td>\n      <td>-74215.000000</td>\n      <td>NaN</td>\n      <td>0.000000</td>\n      <td>12346.000000</td>\n      <td>NaN</td>\n      <td>-127352.940000</td>\n    </tr>\n    <tr>\n      <th>25%</th>\n      <td>NaN</td>\n      <td>NaN</td>\n      <td>NaN</td>\n      <td>2.000000</td>\n      <td>NaN</td>\n      <td>2.062500</td>\n      <td>13963.000000</td>\n      <td>NaN</td>\n      <td>7.260000</td>\n    </tr>\n    <tr>\n      <th>50%</th>\n      <td>NaN</td>\n      <td>NaN</td>\n      <td>NaN</td>\n      <td>5.000000</td>\n      <td>NaN</td>\n      <td>3.217500</td>\n      <td>15239.000000</td>\n      <td>NaN</td>\n      <td>19.470000</td>\n    </tr>\n    <tr>\n      <th>75%</th>\n      <td>NaN</td>\n      <td>NaN</td>\n      <td>NaN</td>\n      <td>12.000000</td>\n      <td>NaN</td>\n      <td>6.187500</td>\n      <td>16788.000000</td>\n      <td>NaN</td>\n      <td>32.175000</td>\n    </tr>\n    <tr>\n      <th>max</th>\n      <td>NaN</td>\n      <td>NaN</td>\n      <td>NaN</td>\n      <td>74215.000000</td>\n      <td>NaN</td>\n      <td>64300.500000</td>\n      <td>18287.000000</td>\n      <td>NaN</td>\n      <td>127352.940000</td>\n    </tr>\n  </tbody>\n</table>\n</div>"
          },
          "metadata": {},
          "execution_count": 12
        }
      ],
      "source": [
        "data.describe(include='all')"
      ]
    },
    {
      "cell_type": "markdown",
      "id": "extended-stuff",
      "metadata": {
        "id": "extended-stuff"
      },
      "source": [
        "# 모델 학습"
      ]
    },
    {
      "cell_type": "code",
      "execution_count": null,
      "metadata": {
        "id": "fjUhHTmBUYEV"
      },
      "outputs": [],
      "source": [
        "from pycaret.classification import *"
      ],
      "id": "fjUhHTmBUYEV"
    },
    {
      "cell_type": "code",
      "execution_count": null,
      "metadata": {
        "id": "wvqipJGIUYEV",
        "outputId": "b162b45d-8f85-47df-f989-d1cd9a8956d9"
      },
      "outputs": [
        {
          "output_type": "stream",
          "name": "stdout",
          "text": [
            "256\n",
            "categorical feature: ['year_month-mode']\n",
            "x_tr.shape (5722, 69) , x_te.shape (5914, 69)\n",
            "features 68\n"
          ]
        },
        {
          "output_type": "execute_result",
          "data": {
            "text/plain": [
              "Index(['quantity-mean', 'quantity-max', 'quantity-sum', 'quantity-count',\n",
              "       'quantity-skew', 'price-mean', 'price-max', 'price-sum', 'price-skew',\n",
              "       'total-skew', 'cumsum_total_by_cust_id-sum',\n",
              "       'cumsum_total_by_cust_id-skew', 'cumsum_total_by_cust_id-sem',\n",
              "       'cumsum_quantity_by_cust_id-min', 'cumsum_quantity_by_cust_id-skew',\n",
              "       'cumsum_price_by_cust_id-skew', 'cumsum_total_by_prod_id-mean',\n",
              "       'cumsum_total_by_prod_id-max', 'cumsum_total_by_prod_id-min',\n",
              "       'cumsum_total_by_prod_id-std', 'cumsum_total_by_prod_id-skew',\n",
              "       'cumsum_total_by_prod_id-sem', 'cumsum_quantity_by_prod_id-mean',\n",
              "       'cumsum_quantity_by_prod_id-max', 'cumsum_quantity_by_prod_id-min',\n",
              "       'cumsum_quantity_by_prod_id-skew', 'cumsum_quantity_by_prod_id-sem',\n",
              "       'cumsum_price_by_prod_id-mean', 'cumsum_price_by_prod_id-std',\n",
              "       'cumsum_price_by_prod_id-skew', 'cumsum_total_by_order_id-max',\n",
              "       'cumsum_total_by_order_id-skew', 'cumsum_quantity_by_order_id-mean',\n",
              "       'cumsum_quantity_by_order_id-max', 'cumsum_quantity_by_order_id-min',\n",
              "       'cumsum_quantity_by_order_id-skew', 'cumsum_price_by_order_id-sum',\n",
              "       'cumsum_price_by_order_id-skew', 'cumcount_total_by_cust_id-min',\n",
              "       'cumcount_total_by_cust_id-skew', 'cumcount_quantity_by_cust_id-min',\n",
              "       'cumcount_quantity_by_cust_id-skew', 'cumcount_price_by_cust_id-min',\n",
              "       'cumcount_price_by_cust_id-skew', 'cumcount_total_by_prod_id-min',\n",
              "       'cumcount_total_by_prod_id-skew', 'cumcount_total_by_order_id-mean',\n",
              "       'cumcount_total_by_order_id-min', 'cumcount_total_by_order_id-skew',\n",
              "       'cumcount_total_by_order_id-sem', 'cumcount_quantity_by_order_id-min',\n",
              "       'cumcount_price_by_order_id-min', 'month-mode', 'year_month-mode',\n",
              "       'order_ts-first', 'order_ts-last', 'order_ts_diff-mean',\n",
              "       'order_ts_diff-max', 'order_ts_diff-min', 'order_ts_diff-sum',\n",
              "       'order_ts_diff-skew', 'quantity_diff-mean', 'quantity_diff-skew',\n",
              "       'price_diff-mean', 'price_diff-sum', 'price_diff-skew',\n",
              "       'total_diff-mean', 'total_diff-skew'],\n",
              "      dtype='object')"
            ]
          },
          "metadata": {},
          "execution_count": 9
        }
      ],
      "source": [
        "train, test, y, features = feature_engineering2(data, '2011-12')\n",
        "features"
      ],
      "id": "wvqipJGIUYEV"
    },
    {
      "cell_type": "code",
      "execution_count": null,
      "metadata": {
        "id": "HjLqWyFEUYEW",
        "outputId": "ebb417c1-e2c9-496c-df98-42ca8446d900"
      },
      "outputs": [
        {
          "output_type": "execute_result",
          "data": {
            "text/plain": [
              "      0.440160   \n",
              "1                            0.085304                      0.107158   \n",
              "2                            0.493378                      1.597336   \n",
              "3                           -0.077728                      0.447134   \n",
              "4                           -0.168685                      0.879343   \n",
              "...                               ...                           ...   \n",
              "5717                         0.148647                     -0.164204   \n",
              "5718                        -0.091131                      0.874949   \n",
              "5719                         0.521274                      2.462137   \n",
              "5720                         0.399126                     -0.659275   \n",
              "5721                         0.274616                     -0.061064   \n",
              "\n",
              "      cumsum_total_by_prod_id-mean  cumsum_total_by_prod_id-max  \\\n",
              "0                    -18933.867255                  127352.9400   \n",
              "1                     16340.371493                  406502.2830   \n",
              "2                     17500.335471                  146857.4085   \n",
              "3                      8876.528131                   86587.3965   \n",
              "4                     12878.018029                   88027.8630   \n",
              "...                            ...                          ...   \n",
              "5717                  19234.969990                  330473.4675   \n",
              "5718                   4106.589414                   14392.7850   \n",
              "5719                    787.525750                    2788.1205   \n",
              "5720                   8029.864779                  104848.9200   \n",
              "5721                   6001.196385                   56236.6695   \n",
              "\n",
              "      cumsum_total_by_prod_id-min  cumsum_total_by_prod_id-std  \\\n",
              "0                    -145015.2000                 64968.445670   \n",
              "1                        156.3375                 47293.442526   \n",
              "2                        471.2400                 27894.026806   \n",
              "3                         74.2500                 12932.316422   \n",
              "4                        292.0500                 21329.326160   \n",
              "...                           ...                          ...   \n",
              "5717                 -312733.7400                 37831.674312   \n",
              "5718                     336.6000                  3700.728295   \n",
              "5719                      56.1000                   857.502547   \n",
              "5720                      12.3750                 14919.476913   \n",
              "5721                      12.6225                  9197.825650   \n",
              "\n",
              "      cumsum_total_by_prod_id-skew  cumsum_total_by_prod_id-sem  \\\n",
              "0                        -1.131166                  9476.621775   \n",
              "1                         6.402293                  3255.814853   \n",
              "2                         3.120231                  3905.945020   \n",
              "3                         3.313619                  1250.214217   \n",
              "4                         3.050607                  5173.121452   \n",
              "...                            ...                          ...   \n",
              "5717                      2.720833                  1451.846410   \n",
              "5718                      1.340020                   687.207992   \n",
              "5719                      1.533066                   247.539663   \n",
              "5720                      4.420347                  1783.218564   \n",
              "5721                      2.783802                   736.415420   \n",
              "\n",
              "      cumsum_quantity_by_prod_id-mean  cumsum_quantity_by_prod_id-max  \\\n",
              "0                         2354.212766                         74215.0   \n",
              "1                         5018.199052                         50996.0   \n",
              "2                        11485.372549                         35932.0   \n",
              "3                         2352.869159                         33089.0   \n",
              "4                         3653.352941                         16276.0   \n",
              "...                               ...                             ...   \n",
              "5717                      8622.369661                         81651.0   \n",
              "5718                      2540.793103                         18060.0   \n",
              "5719                       268.166667                          1381.0   \n",
              "5720                      2296.128571                         15492.0   \n",
              "5721                      2263.487179                         29074.0   \n",
              "\n",
              "      cumsum_quantity_by_prod_id-min  cumsum_quantity_by_prod_id-skew  \\\n",
              "0                            -1644.0                         6.742285   \n",
              "1                               56.0                         2.895244   \n",
              "2                              336.0                         0.673806   \n",
              "3                               12.0                         4.872195   \n",
              "4                               60.0                         1.810547   \n",
              "...                              ...                              ...   \n",
              "5717                          -813.0                         3.154816   \n",
              "5718                            71.0                         3.073639   \n",
              "5719                             4.0                         2.039689   \n",
              "5720                             3.0                         2.125992   \n",
              "5721                             3.0                         4.313239   \n",
              "\n",
              "      cumsum_quantity_by_prod_id-sem  cumsum_price_by_prod_id-mean  \\\n",
              "0                        1570.615648                  63650.017691   \n",
              "1                         574.065075                   2199.501924   \n",
              "2                        1548.160716                   5104.847000   \n",
              "3                         410.319118                   1555.892636   \n",
              "4                        1052.241822                   3051.218824   \n",
              "...                              ...                           ...   \n",
              "5717                      473.644959                   3440.502190   \n",
              "5718                      718.792141                    877.092207   \n",
              "5719                      122.421826                    222.689500   \n",
              "5720                      387.007566                   1051.311643   \n",
              "5721                      287.852992                    760.067423   \n",
              "\n",
              "      cumsum_price_by_prod_id-std  cumsum_price_by_prod_id-skew  \\\n",
              "0                   128903.599171                      1.619409   \n",
              "1                     7974.127747                      6.790150   \n",
              "2                    16507.639799                      4.106796   \n",
              "3                     3418.294904                      6.236526   \n",
              "4                     9814.784063                      4.100398   \n",
              "...                           ...                           ...   \n",
              "5717                 35350.808742                     18.578370   \n",
              "5718                  1695.539312                      3.024097   \n",
              "5719                   345.048410                      2.209675   \n",
              "5720                  2612.775785                      5.638844   \n",
              "5721                  1436.632601                      3.475217   \n",
              "\n",
              "      cumsum_total_by_order_id-max  cumsum_total_by_order_id-skew  \\\n",
              "0                      127352.9400                      -0.002867   \n",
              "1                        2135.6280                       1.234591   \n",
              "2                        1473.1200                       1.639190   \n",
              "3                        2314.3230                       0.321784   \n",
              "4                         551.7600                       0.200043   \n",
              "...                            ...                            ...   \n",
              "5717                      318.1200                       0.523012   \n",
              "5718                      761.7720                      -0.207487   \n",
              "5719                      704.5500                       0.801418   \n",
              "5720                     1375.2420                       0.183386   \n",
              "5721                     1768.1565                       0.575163   \n",
              "\n",
              "      cumsum_quantity_by_order_id-mean  cumsum_quantity_by_order_id-max  \\\n",
              "0                             3.914894                          74215.0   \n",
              "1                           224.853081                            676.0   \n",
              "2                           388.392157                           1254.0   \n",
              "3                           224.383178                            519.0   \n",
              "4                           107.941176                            197.0   \n",
              "...                                ...                              ...   \n",
              "5717                         40.833579                            146.0   \n",
              "5718                        229.551724                            494.0   \n",
              "5719                         66.416667                            145.0   \n",
              "5720                        196.800000                            494.0   \n",
              "5721                        301.698718                            990.0   \n",
              "\n",
              "      cumsum_quantity_by_order_id-min  cumsum_quantity_by_order_id-skew  \\\n",
              "0                            -74215.0                         -0.000793   \n",
              "1                                 4.0                          0.694310   \n",
              "2                                24.0                          1.339273   \n",
              "3                                -5.0                          0.244650   \n",
              "4                                12.0                         -0.168685   \n",
              "...                               ...                               ...   \n",
              "5717                              1.0                          0.987922   \n",
              "5718                             -1.0                         -0.133042   \n",
              "5719                              2.0                          0.521274   \n",
              "5720                            -16.0                          0.590867   \n",
              "5721                             -2.0                          0.862223   \n",
              "\n",
              "      cumsum_price_by_order_id-sum  cumsum_price_by_order_id-skew  \\\n",
              "0                        3794.6700                       1.486909   \n",
              "1                       15086.5935                       0.663454   \n",
              "2                         719.8950                       2.593528   \n",
              "3                       25612.9170                       1.326011   \n",
              "4                         716.2650                       0.879343   \n",
              "...                            ...                            ...   \n",
              "5717                    49472.6100                       0.403984   \n",
              "5718                     3288.8130                      -0.434297   \n",
              "5719                      677.3250                       2.462137   \n",
              "5720                     7411.7340                       0.090696   \n",
              "5721                    10303.3755                       0.913898   \n",
              "\n",
              "      cumcount_total_by_cust_id-min  cumcount_total_by_cust_id-skew  \\\n",
              "0                               0.0                             0.0   \n",
              "1                               0.0                             0.0   \n",
              "2                               0.0                             0.0   \n",
              "3                               0.0                             0.0   \n",
              "4                               0.0                             0.0   \n",
              "...                             ...                             ...   \n",
              "5717                            0.0                             0.0   \n",
              "5718                            0.0                             0.0   \n",
              "5719                            0.0                             0.0   \n",
              "5720                            0.0                             0.0   \n",
              "5721                            0.0                             0.0   \n",
              "\n",
              "      cumcount_quantity_by_cust_id-min  cumcount_quantity_by_cust_id-skew  \\\n",
              "0                                  0.0                                0.0   \n",
              "1                                  0.0                                0.0   \n",
              "2                                  0.0                                0.0   \n",
              "3                                  0.0                                0.0   \n",
              "4                                  0.0                                0.0   \n",
              "...                                ...                                ...   \n",
              "5717                               0.0                                0.0   \n",
              "5718                               0.0                                0.0   \n",
              "5719                               0.0                                0.0   \n",
              "5720                               0.0                                0.0   \n",
              "5721                               0.0                                0.0   \n",
              "\n",
              "      cumcount_price_by_cust_id-min  cumcount_price_by_cust_id-skew  \\\n",
              "0                               0.0                             0.0   \n",
              "1                               0.0                             0.0   \n",
              "2                               0.0                             0.0   \n",
              "3                               0.0                             0.0   \n",
              "4                               0.0                             0.0   \n",
              "...                             ...                             ...   \n",
              "5717                            0.0                             0.0   \n",
              "5718                            0.0                             0.0   \n",
              "5719                            0.0                             0.0   \n",
              "5720                            0.0                             0.0   \n",
              "5721                            0.0                             0.0   \n",
              "\n",
              "      cumcount_total_by_prod_id-min  cumcount_total_by_prod_id-skew  \\\n",
              "0                               0.0                        0.736555   \n",
              "1                               9.0                        3.453315   \n",
              "2                              16.0                        1.186634   \n",
              "3                               4.0                        2.666999   \n",
              "4                              15.0                        1.043246   \n",
              "...                             ...                             ...   \n",
              "5717                            0.0                        2.383380   \n",
              "5718                            4.0                        1.313834   \n",
              "5719                            0.0                        1.980401   \n",
              "5720                            0.0                        1.603303   \n",
              "5721                            1.0                        3.422812   \n",
              "\n",
              "      cumcount_total_by_order_id-mean  cumcount_total_by_order_id-min  \\\n",
              "0                            4.617021                             0.0   \n",
              "1                           16.075829                             0.0   \n",
              "2                            6.941176                             0.0   \n",
              "3                           23.644860                             0.0   \n",
              "4                            8.000000                             0.0   \n",
              "...                               ...                             ...   \n",
              "5717                        23.877761                             0.0   \n",
              "5718                        13.034483                             0.0   \n",
              "5719                         5.500000                             0.0   \n",
              "5720                        19.485714                             0.0   \n",
              "5721                        17.692308                             0.0   \n",
              "\n",
              "      cumcount_total_by_order_id-skew  cumcount_total_by_order_id-sem  \\\n",
              "0                            1.072454                        0.787596   \n",
              "1                            0.607186                        0.767643   \n",
              "2                            0.527392                        0.791827   \n",
              "3                            0.126067                        1.501146   \n",
              "4                            0.000000                        1.224745   \n",
              "...                               ...                             ...   \n",
              "5717                         0.571511                        0.625299   \n",
              "5718                         0.021544                        1.570575   \n",
              "5719                         0.000000                        1.040833   \n",
              "5720                         0.467989                        1.782564   \n",
              "5721                         0.700905                        1.111955   \n",
              "\n",
              "      cumcount_quantity_by_order_id-min  cumcount_price_by_order_id-min  \\\n",
              "0                                   0.0                             0.0   \n",
              "1                                   0.0                             0.0   \n",
              "2                                   0.0                             0.0   \n",
              "3                                   0.0                             0.0   \n",
              "4                                   0.0                             0.0   \n",
              "...                                 ...                             ...   \n",
              "5717                                0.0                             0.0   \n",
              "5718                                0.0                             0.0   \n",
              "5719                                0.0                             0.0   \n",
              "5720                                0.0                             0.0   \n",
              "5721                                0.0                             0.0   \n",
              "\n",
              "      month-mode  year_month-mode  order_ts-first  order_ts-last  \\\n",
              "0            6.0              6.0    1.260780e+09   1.295346e+09   \n",
              "1           10.0             22.0    1.288535e+09   1.320064e+09   \n",
              "2            9.0              9.0    1.285600e+09   1.316956e+09   \n",
              "3           10.0             10.0    1.259931e+09   1.288254e+09   \n",
              "4            2.0             14.0    1.296662e+09   1.296662e+09   \n",
              "...          ...              ...             ...            ...   \n",
              "5717         1.0             13.0    1.266600e+09   1.319726e+09   \n",
              "5718        10.0             10.0    1.286192e+09   1.286368e+09   \n",
              "5719         2.0              2.0    1.266402e+09   1.266402e+09   \n",
              "5720         8.0              8.0    1.260960e+09   1.282305e+09   \n",
              "5721         5.0              5.0    1.259677e+09   1.319794e+09   \n",
              "\n",
              "      order_ts_diff-mean  order_ts_diff-max  order_ts_diff-min  \\\n",
              "0          751438.695652         10197900.0                0.0   \n",
              "1          150138.571429          7789020.0                0.0   \n",
              "2          627136.800000         14955960.0                0.0   \n",
              "3          267200.377358         14077560.0                0.0   \n",
              "4               0.000000                0.0                0.0   \n",
              "...                  ...                ...                ...   \n",
              "5717        78357.699115         12440580.0                0.0   \n",
              "5718         6295.714286           176280.0                0.0   \n",
              "5719            0.000000                0.0                0.0   \n",
              "5720       309349.565217         16441560.0                0.0   \n",
              "5721       387851.612903         15634080.0                0.0   \n",
              "\n",
              "      order_ts_diff-sum  order_ts_diff-skew  quantity_diff-mean  \\\n",
              "0            34566180.0            3.439852        -1613.586957   \n",
              "1            31529100.0            6.372104            0.000000   \n",
              "2            31356840.0            4.710186           -0.460000   \n",
              "3            28323240.0            7.131391            0.103774   \n",
              "4                   0.0            0.000000            0.000000   \n",
              "...                 ...                 ...                 ...   \n",
              "5717         53126520.0           12.415990            0.001475   \n",
              "5718           176280.0            5.291503           -0.071429   \n",
              "5719                0.0            0.000000           -0.090909   \n",
              "5720         21345120.0            7.469056           -0.144928   \n",
              "5721         60117000.0            5.909084            0.167742   \n",
              "\n",
              "      quantity_diff-skew  price_diff-mean  price_diff-sum  price_diff-skew  \\\n",
              "0              -4.214331    -1.241087e-01   -5.709000e+00        -0.840908   \n",
              "1               0.304318    -7.857143e-03   -1.650000e+00         0.840331   \n",
              "2               0.066540     1.301850e+00    6.509250e+01         0.251831   \n",
              "3              -0.091287    -3.268868e-02   -3.465000e+00        -0.213999   \n",
              "4              -0.831202     4.440892e-16    7.105427e-15         0.079587   \n",
              "...                  ...              ...             ...              ...   \n",
              "5717            0.099088    -2.619995e-18   -1.776357e-15         0.259549   \n",
              "5718           -0.256523    -1.473214e+00   -4.125000e+01        -3.123508   \n",
              "5719            0.008851     5.257500e+00    5.783250e+01         2.748160   \n",
              "5720            0.525894     1.492174e-01    1.029600e+01         0.599378   \n",
              "5721           -0.255582    -2.405806e-02   -3.729000e+00        -0.137642   \n",
              "\n",
              "      total_diff-mean  total_diff-skew  \n",
              "0       -2.770156e+03        -4.214047  \n",
              "1       -4.714286e-02         0.041801  \n",
              "2        8.844000e-01        -0.069972  \n",
              "3        3.152123e-01        -0.089535  \n",
              "4        2.220446e-16         0.404341  \n",
              "...               ...              ...  \n",
              "5717     3.042035e-03         0.419943  \n",
              "5718    -4.419643e+00        -2.121658  \n",
              "5719     3.015000e+00         0.195896  \n",
              "5720    -4.782609e-04        -0.130166  \n",
              "5721     1.283806e-01         0.163004  \n",
              "\n",
              "[5722 rows x 69 columns]"
            ],
            "text/html": "<div>\n<style scoped>\n    .dataframe tbody tr th:only-of-type {\n        vertical-align: middle;\n    }\n\n    .dataframe tbody tr th {\n        vertical-align: top;\n    }\n\n    .dataframe thead th {\n        text-align: right;\n    }\n</style>\n<table border=\"1\" class=\"dataframe\">\n  <thead>\n    <tr style=\"text-align: right;\">\n      <th></th>\n      <th>label</th>\n      <th>quantity-mean</th>\n      <th>quantity-max</th>\n      <th>quantity-sum</th>\n      <th>quantity-count</th>\n      <th>quantity-skew</th>\n      <th>price-mean</th>\n      <th>price-max</th>\n      <th>price-sum</th>\n      <th>price-skew</th>\n      <th>total-skew</th>\n      <th>cumsum_total_by_cust_id-sum</th>\n      <th>cumsum_total_by_cust_id-skew</th>\n      <th>cumsum_total_by_cust_id-sem</th>\n      <th>cumsum_quantity_by_cust_id-min</th>\n      <th>cumsum_quantity_by_cust_id-skew</th>\n      <th>cumsum_price_by_cust_id-skew</th>\n      <th>cumsum_total_by_prod_id-mean</th>\n      <th>cumsum_total_by_prod_id-max</th>\n      <th>cumsum_total_by_prod_id-min</th>\n      <th>cumsum_total_by_prod_id-std</th>\n      <th>cumsum_total_by_prod_id-skew</th>\n      <th>cumsum_total_by_prod_id-sem</th>\n      <th>cumsum_quantity_by_prod_id-mean</th>\n      <th>cumsum_quantity_by_prod_id-max</th>\n      <th>cumsum_quantity_by_prod_id-min</th>\n      <th>cumsum_quantity_by_prod_id-skew</th>\n      <th>cumsum_quantity_by_prod_id-sem</th>\n      <th>cumsum_price_by_prod_id-mean</th>\n      <th>cumsum_price_by_prod_id-std</th>\n      <th>cumsum_price_by_prod_id-skew</th>\n      <th>cumsum_total_by_order_id-max</th>\n      <th>cumsum_total_by_order_id-skew</th>\n      <th>cumsum_quantity_by_order_id-mean</th>\n      <th>cumsum_quantity_by_order_id-max</th>\n      <th>cumsum_quantity_by_order_id-min</th>\n      <th>cumsum_quantity_by_order_id-skew</th>\n      <th>cumsum_price_by_order_id-sum</th>\n      <th>cumsum_price_by_order_id-skew</th>\n      <th>cumcount_total_by_cust_id-min</th>\n      <th>cumcount_total_by_cust_id-skew</th>\n      <th>cumcount_quantity_by_cust_id-min</th>\n      <th>cumcount_quantity_by_cust_id-skew</th>\n      <th>cumcount_price_by_cust_id-min</th>\n      <th>cumcount_price_by_cust_id-skew</th>\n      <th>cumcount_total_by_prod_id-min</th>\n      <th>cumcount_total_by_prod_id-skew</th>\n      <th>cumcount_total_by_order_id-mean</th>\n      <th>cumcount_total_by_order_id-min</th>\n      <th>cumcount_total_by_order_id-skew</th>\n      <th>cumcount_total_by_order_id-sem</th>\n      <th>cumcount_quantity_by_order_id-min</th>\n      <th>cumcount_price_by_order_id-min</th>\n      <th>month-mode</th>\n      <th>year_month-mode</th>\n      <th>order_ts-first</th>\n      <th>order_ts-last</th>\n      <th>order_ts_diff-mean</th>\n      <th>order_ts_diff-max</th>\n      <th>order_ts_diff-min</th>\n      <th>order_ts_diff-sum</th>\n      <th>order_ts_diff-skew</th>\n      <th>quantity_diff-mean</th>\n      <th>quantity_diff-skew</th>\n      <th>price_diff-mean</th>\n      <th>price_diff-sum</th>\n      <th>price_diff-skew</th>\n      <th>total_diff-mean</th>\n      <th>total_diff-skew</th>\n    </tr>\n  </thead>\n  <tbody>\n    <tr>\n      <th>0</th>\n      <td>0</td>\n      <td>1.127660</td>\n      <td>74215.0</td>\n      <td>53.0</td>\n      <td>47.0</td>\n      <td>-0.000228</td>\n      <td>19.922872</td>\n      <td>234.8115</td>\n      <td>936.3750</td>\n      <td>4.547689</td>\n      <td>0.000214</td>\n      <td>1.388053e+05</td>\n      <td>6.855058</td>\n      <td>2702.559040</td>\n      <td>10.0</td>\n      <td>6.855636</td>\n      <td>0.440160</td>\n      <td>-18933.867255</td>\n      <td>127352.9400</td>\n      <td>-145015.2000</td>\n      <td>64968.445670</td>\n      <td>-1.131166</td>\n      <td>9476.621775</td>\n      <td>2354.212766</td>\n      <td>74215.0</td>\n      <td>-1644.0</td>\n      <td>6.742285</td>\n      <td>1570.615648</td>\n      <td>63650.017691</td>\n      <td>128903.599171</td>\n      <td>1.619409</td>\n      <td>127352.9400</td>\n      <td>-0.002867</td>\n      <td>3.914894</td>\n      <td>74215.0</td>\n      <td>-74215.0</td>\n      <td>-0.000793</td>\n      <td>3794.6700</td>\n      <td>1.486909</td>\n      <td>0.0</td>\n      <td>0.0</td>\n      <td>0.0</td>\n      <td>0.0</td>\n      <td>0.0</td>\n      <td>0.0</td>\n      <td>0.0</td>\n      <td>0.736555</td>\n      <td>4.617021</td>\n      <td>0.0</td>\n      <td>1.072454</td>\n      <td>0.787596</td>\n      <td>0.0</td>\n      <td>0.0</td>\n      <td>6.0</td>\n      <td>6.0</td>\n      <td>1.260780e+09</td>\n      <td>1.295346e+09</td>\n      <td>751438.695652</td>\n      <td>10197900.0</td>\n      <td>0.0</td>\n      <td>34566180.0</td>\n      <td>3.439852</td>\n      <td>-1613.586957</td>\n      <td>-4.214331</td>\n      <td>-1.241087e-01</td>\n      <td>-5.709000e+00</td>\n      <td>-0.840908</td>\n      <td>-2.770156e+03</td>\n      <td>-4.214047</td>\n    </tr>\n    <tr>\n      <th>1</th>\n      <td>0</td>\n      <td>13.151659</td>\n      <td>240.0</td>\n      <td>2775.0</td>\n      <td>211.0</td>\n      <td>10.216574</td>\n      <td>4.230803</td>\n      <td>21.0375</td>\n      <td>892.6995</td>\n      <td>2.511623</td>\n      <td>6.436852</td>\n      <td>7.367592e+05</td>\n      <td>0.228741</td>\n      <td>158.497385</td>\n      <td>6.0</td>\n      <td>0.085304</td>\n      <td>0.107158</td>\n      <td>16340.371493</td>\n      <td>406502.2830</td>\n      <td>156.3375</td>\n      <td>47293.442526</td>\n      <td>6.402293</td>\n      <td>3255.814853</td>\n      <td>5018.199052</td>\n      <td>50996.0</td>\n      <td>56.0</td>\n      <td>2.895244</td>\n      <td>574.065075</td>\n      <td>2199.501924</td>\n      <td>7974.127747</td>\n      <td>6.790150</td>\n      <td>2135.6280</td>\n      <td>1.234591</td>\n      <td>224.853081</td>\n      <td>676.0</td>\n      <td>4.0</td>\n      <td>0.694310</td>\n      <td>15086.5935</td>\n      <td>0.663454</td>\n      <td>0.0</td>\n      <td>0.0</td>\n      <td>0.0</td>\n      <td>0.0</td>\n      <td>0.0</td>\n      <td>0.0</td>\n      <td>9.0</td>\n      <td>3.453315</td>\n      <td>16.075829</td>\n      <td>0.0</td>\n      <td>0.607186</td>\n      <td>0.767643</td>\n      <td>0.0</td>\n      <td>0.0</td>\n      <td>10.0</td>\n      <td>22.0</td>\n      <td>1.288535e+09</td>\n      <td>1.320064e+09</td>\n      <td>150138.571429</td>\n      <td>7789020.0</td>\n      <td>0.0</td>\n      <td>31529100.0</td>\n      <td>6.372104</td>\n      <td>0.000000</td>\n      <td>0.304318</td>\n      <td>-7.857143e-03</td>\n      <td>-1.650000e+00</td>\n      <td>0.840331</td>\n      <td>-4.714286e-02</td>\n      <td>0.041801</td>\n    </tr>\n    <tr>\n      <th>2</th>\n      <td>0</td>\n      <td>53.215686</td>\n      <td>144.0</td>\n      <td>2714.0</td>\n      <td>51.0</td>\n      <td>0.822147</td>\n      <td>6.247353</td>\n      <td>66.0000</td>\n      <td>318.6150</td>\n      <td>3.224035</td>\n      <td>2.528198</td>\n      <td>5.594629e+04</td>\n      <td>0.812596</td>\n      <td>140.030692</td>\n      <td>24.0</td>\n      <td>0.493378</td>\n      <td>1.597336</td>\n      <td>17500.335471</td>\n      <td>146857.4085</td>\n      <td>471.2400</td>\n      <td>27894.026806</td>\n      <td>3.120231</td>\n      <td>3905.945020</td>\n      <td>11485.372549</td>\n      <td>35932.0</td>\n      <td>336.0</td>\n      <td>0.673806</td>\n      <td>1548.160716</td>\n      <td>5104.847000</td>\n      <td>16507.639799</td>\n      <td>4.106796</td>\n      <td>1473.1200</td>\n      <td>1.639190</td>\n      <td>388.392157</td>\n      <td>1254.0</td>\n      <td>24.0</td>\n      <td>1.339273</td>\n      <td>719.8950</td>\n      <td>2.593528</td>\n      <td>0.0</td>\n      <td>0.0</td>\n      <td>0.0</td>\n      <td>0.0</td>\n      <td>0.0</td>\n      <td>0.0</td>\n      <td>16.0</td>\n      <td>1.186634</td>\n      <td>6.941176</td>\n      <td>0.0</td>\n      <td>0.527392</td>\n      <td>0.791827</td>\n      <td>0.0</td>\n      <td>0.0</td>\n      <td>9.0</td>\n      <td>9.0</td>\n      <td>1.285600e+09</td>\n      <td>1.316956e+09</td>\n      <td>627136.800000</td>\n      <td>14955960.0</td>\n      <td>0.0</td>\n      <td>31356840.0</td>\n      <td>4.710186</td>\n      <td>-0.460000</td>\n      <td>0.066540</td>\n      <td>1.301850e+00</td>\n      <td>6.509250e+01</td>\n      <td>0.251831</td>\n      <td>8.844000e-01</td>\n      <td>-0.069972</td>\n    </tr>\n    <tr>\n      <th>3</th>\n      <td>1</td>\n      <td>9.233645</td>\n      <td>48.0</td>\n      <td>988.0</td>\n      <td>107.0</td>\n      <td>1.558634</td>\n      <td>13.870640</td>\n      <td>412.5000</td>\n      <td>1484.1585</td>\n      <td>7.102276</td>\n      <td>4.889357</td>\n      <td>2.155245e+05</td>\n      <td>0.089354</td>\n      <td>135.620199</td>\n      <td>-5.0</td>\n      <td>-0.077728</td>\n      <td>0.447134</td>\n      <td>8876.528131</td>\n      <td>86587.3965</td>\n      <td>74.2500</td>\n      <td>12932.316422</td>\n      <td>3.313619</td>\n      <td>1250.214217</td>\n      <td>2352.869159</td>\n      <td>33089.0</td>\n      <td>12.0</td>\n      <td>4.872195</td>\n      <td>410.319118</td>\n      <td>1555.892636</td>\n      <td>3418.294904</td>\n      <td>6.236526</td>\n      <td>2314.3230</td>\n      <td>0.321784</td>\n      <td>224.383178</td>\n      <td>519.0</td>\n      <td>-5.0</td>\n      <td>0.244650</td>\n      <td>25612.9170</td>\n      <td>1.326011</td>\n      <td>0.0</td>\n      <td>0.0</td>\n      <td>0.0</td>\n      <td>0.0</td>\n      <td>0.0</td>\n      <td>0.0</td>\n      <td>4.0</td>\n      <td>2.666999</td>\n      <td>23.644860</td>\n      <td>0.0</td>\n      <td>0.126067</td>\n      <td>1.501146</td>\n      <td>0.0</td>\n      <td>0.0</td>\n      <td>10.0</td>\n      <td>10.0</td>\n      <td>1.259931e+09</td>\n      <td>1.288254e+09</td>\n      <td>267200.377358</td>\n      <td>14077560.0</td>\n      <td>0.0</td>\n      <td>28323240.0</td>\n      <td>7.131391</td>\n      <td>0.103774</td>\n      <td>-0.091287</td>\n      <td>-3.268868e-02</td>\n      <td>-3.465000e+00</td>\n      <td>-0.213999</td>\n      <td>3.152123e-01</td>\n      <td>-0.089535</td>\n    </tr>\n    <tr>\n      <th>4</th>\n      <td>0</td>\n      <td>11.588235</td>\n      <td>24.0</td>\n      <td>197.0</td>\n      <td>17.0</td>\n      <td>0.472554</td>\n      <td>6.337941</td>\n      <td>66.0000</td>\n      <td>107.7450</td>\n      <td>4.098028</td>\n      <td>1.178640</td>\n      <td>4.791435e+03</td>\n      <td>0.200043</td>\n      <td>39.285731</td>\n      <td>12.0</td>\n      <td>-0.168685</td>\n      <td>0.879343</td>\n      <td>12878.018029</td>\n      <td>88027.8630</td>\n      <td>292.0500</td>\n      <td>21329.326160</td>\n      <td>3.050607</td>\n      <td>5173.121452</td>\n      <td>3653.352941</td>\n      <td>16276.0</td>\n      <td>60.0</td>\n      <td>1.810547</td>\n      <td>1052.241822</td>\n      <td>3051.218824</td>\n      <td>9814.784063</td>\n      <td>4.100398</td>\n      <td>551.7600</td>\n      <td>0.200043</td>\n      <td>107.941176</td>\n      <td>197.0</td>\n      <td>12.0</td>\n      <td>-0.168685</td>\n      <td>716.2650</td>\n      <td>0.879343</td>\n      <td>0.0</td>\n      <td>0.0</td>\n      <td>0.0</td>\n      <td>0.0</td>\n      <td>0.0</td>\n      <td>0.0</td>\n      <td>15.0</td>\n      <td>1.043246</td>\n      <td>8.000000</td>\n      <td>0.0</td>\n      <td>0.000000</td>\n      <td>1.224745</td>\n      <td>0.0</td>\n      <td>0.0</td>\n      <td>2.0</td>\n      <td>14.0</td>\n      <td>1.296662e+09</td>\n      <td>1.296662e+09</td>\n      <td>0.000000</td>\n      <td>0.0</td>\n      <td>0.0</td>\n      <td>0.0</td>\n      <td>0.000000</td>\n      <td>0.000000</td>\n      <td>-0.831202</td>\n      <td>4.440892e-16</td>\n      <td>7.105427e-15</td>\n      <td>0.079587</td>\n      <td>2.220446e-16</td>\n      <td>0.404341</td>\n    </tr>\n    <tr>\n      <th>...</th>\n      <td>...</td>\n      <td>...</td>\n      <td>...</td>\n      <td>...</td>\n      <td>...</td>\n      <td>...</td>\n      <td>...</td>\n      <td>...</td>\n      <td>...</td>\n      <td>...</td>\n      <td>...</td>\n      <td>...</td>\n      <td>...</td>\n      <td>...</td>\n      <td>...</td>\n      <td>...</td>\n      <td>...</td>\n      <td>...</td>\n      <td>...</td>\n      <td>...</td>\n      <td>...</td>\n      <td>...</td>\n      <td>...</td>\n      <td>...</td>\n      <td>...</td>\n      <td>...</td>\n      <td>...</td>\n      <td>...</td>\n      <td>...</td>\n      <td>...</td>\n      <td>...</td>\n      <td>...</td>\n      <td>...</td>\n      <td>...</td>\n      <td>...</td>\n      <td>...</td>\n      <td>...</td>\n      <td>...</td>\n      <td>...</td>\n      <td>...</td>\n      <td>...</td>\n      <td>...</td>\n      <td>...</td>\n      <td>...</td>\n      <td>...</td>\n      <td>...</td>\n      <td>...</td>\n      <td>...</td>\n      <td>...</td>\n      <td>...</td>\n      <td>...</td>\n      <td>...</td>\n      <td>...</td>\n      <td>...</td>\n      <td>...</td>\n      <td>...</td>\n      <td>...</td>\n      <td>...</td>\n      <td>...</td>\n      <td>...</td>\n      <td>...</td>\n      <td>...</td>\n      <td>...</td>\n      <td>...</td>\n      <td>...</td>\n      <td>...</td>\n      <td>...</td>\n      <td>...</td>\n      <td>...</td>\n    </tr>\n    <tr>\n      <th>5717</th>\n      <td>1</td>\n      <td>1.622975</td>\n      <td>13.0</td>\n      <td>1102.0</td>\n      <td>679.0</td>\n      <td>4.936409</td>\n      <td>3.106957</td>\n      <td>26.3175</td>\n      <td>2109.6240</td>\n      <td>3.696759</td>\n      <td>3.275942</td>\n      <td>1.013354e+06</td>\n      <td>0.007828</td>\n      <td>32.769152</td>\n      <td>1.0</td>\n      <td>0.148647</td>\n      <td>-0.164204</td>\n      <td>19234.969990</td>\n      <td>330473.4675</td>\n      <td>-312733.7400</td>\n      <td>37831.674312</td>\n      <td>2.720833</td>\n      <td>1451.846410</td>\n      <td>8622.369661</td>\n      <td>81651.0</td>\n      <td>-813.0</td>\n      <td>3.154816</td>\n      <td>473.644959</td>\n      <td>3440.502190</td>\n      <td>35350.808742</td>\n      <td>18.578370</td>\n      <td>318.1200</td>\n      <td>0.523012</td>\n      <td>40.833579</td>\n      <td>146.0</td>\n      <td>1.0</td>\n      <td>0.987922</td>\n      <td>49472.6100</td>\n      <td>0.403984</td>\n      <td>0.0</td>\n      <td>0.0</td>\n      <td>0.0</td>\n      <td>0.0</td>\n      <td>0.0</td>\n      <td>0.0</td>\n      <td>0.0</td>\n      <td>2.383380</td>\n      <td>23.877761</td>\n      <td>0.0</td>\n      <td>0.571511</td>\n      <td>0.625299</td>\n      <td>0.0</td>\n      <td>0.0</td>\n      <td>1.0</td>\n      <td>13.0</td>\n      <td>1.266600e+09</td>\n      <td>1.319726e+09</td>\n      <td>78357.699115</td>\n      <td>12440580.0</td>\n      <td>0.0</td>\n      <td>53126520.0</td>\n      <td>12.415990</td>\n      <td>0.001475</td>\n      <td>0.099088</td>\n      <td>-2.619995e-18</td>\n      <td>-1.776357e-15</td>\n      <td>0.259549</td>\n      <td>3.042035e-03</td>\n      <td>0.419943</td>\n    </tr>\n    <tr>\n      <th>5718</th>\n      <td>0</td>\n      <td>17.000000</td>\n      <td>50.0</td>\n      <td>493.0</td>\n      <td>29.0</td>\n      <td>1.006840</td>\n      <td>6.605121</td>\n      <td>82.5000</td>\n      <td>191.5485</td>\n      <td>4.144780</td>\n      <td>-0.050964</td>\n      <td>1.260993e+04</td>\n      <td>-0.062561</td>\n      <td>36.441877</td>\n      <td>1.0</td>\n      <td>-0.091131</td>\n      <td>0.874949</td>\n      <td>4106.589414</td>\n      <td>14392.7850</td>\n      <td>336.6000</td>\n      <td>3700.728295</td>\n      <td>1.340020</td>\n      <td>687.207992</td>\n      <td>2540.793103</td>\n      <td>18060.0</td>\n      <td>71.0</td>\n      <td>3.073639</td>\n      <td>718.792141</td>\n      <td>877.092207</td>\n      <td>1695.539312</td>\n      <td>3.024097</td>\n      <td>761.7720</td>\n      <td>-0.207487</td>\n      <td>229.551724</td>\n      <td>494.0</td>\n      <td>-1.0</td>\n      <td>-0.133042</td>\n      <td>3288.8130</td>\n      <td>-0.434297</td>\n      <td>0.0</td>\n      <td>0.0</td>\n      <td>0.0</td>\n      <td>0.0</td>\n      <td>0.0</td>\n      <td>0.0</td>\n      <td>4.0</td>\n      <td>1.313834</td>\n      <td>13.034483</td>\n      <td>0.0</td>\n      <td>0.021544</td>\n      <td>1.570575</td>\n      <td>0.0</td>\n      <td>0.0</td>\n      <td>10.0</td>\n      <td>10.0</td>\n      <td>1.286192e+09</td>\n      <td>1.286368e+09</td>\n      <td>6295.714286</td>\n      <td>176280.0</td>\n      <td>0.0</td>\n      <td>176280.0</td>\n      <td>5.291503</td>\n      <td>-0.071429</td>\n      <td>-0.256523</td>\n      <td>-1.473214e+00</td>\n      <td>-4.125000e+01</td>\n      <td>-3.123508</td>\n      <td>-4.419643e+00</td>\n      <td>-2.121658</td>\n    </tr>\n    <tr>\n      <th>5719</th>\n      <td>0</td>\n      <td>12.083333</td>\n      <td>80.0</td>\n      <td>145.0</td>\n      <td>12.0</td>\n      <td>3.258881</td>\n      <td>13.777500</td>\n      <td>82.5000</td>\n      <td>165.3300</td>\n      <td>2.931939</td>\n      <td>3.158211</td>\n      <td>3.449160e+03</td>\n      <td>0.801418</td>\n      <td>71.592942</td>\n      <td>2.0</td>\n      <td>0.521274</td>\n      <td>2.462137</td>\n      <td>787.525750</td>\n      <td>2788.1205</td>\n      <td>56.1000</td>\n      <td>857.502547</td>\n      <td>1.533066</td>\n      <td>247.539663</td>\n      <td>268.166667</td>\n      <td>1381.0</td>\n      <td>4.0</td>\n      <td>2.039689</td>\n      <td>122.421826</td>\n      <td>222.689500</td>\n      <td>345.048410</td>\n      <td>2.209675</td>\n      <td>704.5500</td>\n      <td>0.801418</td>\n      <td>66.416667</td>\n      <td>145.0</td>\n      <td>2.0</td>\n      <td>0.521274</td>\n      <td>677.3250</td>\n      <td>2.462137</td>\n      <td>0.0</td>\n      <td>0.0</td>\n      <td>0.0</td>\n      <td>0.0</td>\n      <td>0.0</td>\n      <td>0.0</td>\n      <td>0.0</td>\n      <td>1.980401</td>\n      <td>5.500000</td>\n      <td>0.0</td>\n      <td>0.000000</td>\n      <td>1.040833</td>\n      <td>0.0</td>\n      <td>0.0</td>\n      <td>2.0</td>\n      <td>2.0</td>\n      <td>1.266402e+09</td>\n      <td>1.266402e+09</td>\n      <td>0.000000</td>\n      <td>0.0</td>\n      <td>0.0</td>\n      <td>0.0</td>\n      <td>0.000000</td>\n      <td>-0.090909</td>\n      <td>0.008851</td>\n      <td>5.257500e+00</td>\n      <td>5.783250e+01</td>\n      <td>2.748160</td>\n      <td>3.015000e+00</td>\n      <td>0.195896</td>\n    </tr>\n    <tr>\n      <th>5720</th>\n      <td>0</td>\n      <td>8.457143</td>\n      <td>36.0</td>\n      <td>592.0</td>\n      <td>70.0</td>\n      <td>1.525244</td>\n      <td>7.225821</td>\n      <td>82.5000</td>\n      <td>505.8075</td>\n      <td>4.944969</td>\n      <td>-0.669937</td>\n      <td>7.338585e+04</td>\n      <td>0.015317</td>\n      <td>64.172102</td>\n      <td>12.0</td>\n      <td>0.399126</td>\n      <td>-0.659275</td>\n      <td>8029.864779</td>\n      <td>104848.9200</td>\n      <td>12.3750</td>\n      <td>14919.476913</td>\n      <td>4.420347</td>\n      <td>1783.218564</td>\n      <td>2296.128571</td>\n      <td>15492.0</td>\n      <td>3.0</td>\n      <td>2.125992</td>\n      <td>387.007566</td>\n      <td>1051.311643</td>\n      <td>2612.775785</td>\n      <td>5.638844</td>\n      <td>1375.2420</td>\n      <td>0.183386</td>\n      <td>196.800000</td>\n      <td>494.0</td>\n      <td>-16.0</td>\n      <td>0.590867</td>\n      <td>7411.7340</td>\n      <td>0.090696</td>\n      <td>0.0</td>\n      <td>0.0</td>\n      <td>0.0</td>\n      <td>0.0</td>\n      <td>0.0</td>\n      <td>0.0</td>\n      <td>0.0</td>\n      <td>1.603303</td>\n      <td>19.485714</td>\n      <td>0.0</td>\n      <td>0.467989</td>\n      <td>1.782564</td>\n      <td>0.0</td>\n      <td>0.0</td>\n      <td>8.0</td>\n      <td>8.0</td>\n      <td>1.260960e+09</td>\n      <td>1.282305e+09</td>\n      <td>309349.565217</td>\n      <td>16441560.0</td>\n      <td>0.0</td>\n      <td>21345120.0</td>\n      <td>7.469056</td>\n      <td>-0.144928</td>\n      <td>0.525894</td>\n      <td>1.492174e-01</td>\n      <td>1.029600e+01</td>\n      <td>0.599378</td>\n      <td>-4.782609e-04</td>\n      <td>-0.130166</td>\n    </tr>\n    <tr>\n      <th>5721</th>\n      <td>0</td>\n      <td>19.301282</td>\n      <td>60.0</td>\n      <td>3011.0</td>\n      <td>156.0</td>\n      <td>1.007820</td>\n      <td>3.690183</td>\n      <td>82.5000</td>\n      <td>575.6685</td>\n      <td>9.800051</td>\n      <td>2.182726</td>\n      <td>5.038663e+05</td>\n      <td>0.071241</td>\n      <td>170.538512</td>\n      <td>-2.0</td>\n      <td>0.274616</td>\n      <td>-0.061064</td>\n      <td>6001.196385</td>\n      <td>56236.6695</td>\n      <td>12.6225</td>\n      <td>9197.825650</td>\n      <td>2.783802</td>\n      <td>736.415420</td>\n      <td>2263.487179</td>\n      <td>29074.0</td>\n      <td>3.0</td>\n      <td>4.313239</td>\n      <td>287.852992</td>\n      <td>760.067423</td>\n      <td>1436.632601</td>\n      <td>3.475217</td>\n      <td>1768.1565</td>\n      <td>0.575163</td>\n      <td>301.698718</td>\n      <td>990.0</td>\n      <td>-2.0</td>\n      <td>0.862223</td>\n      <td>10303.3755</td>\n      <td>0.913898</td>\n      <td>0.0</td>\n      <td>0.0</td>\n      <td>0.0</td>\n      <td>0.0</td>\n      <td>0.0</td>\n      <td>0.0</td>\n      <td>1.0</td>\n      <td>3.422812</td>\n      <td>17.692308</td>\n      <td>0.0</td>\n      <td>0.700905</td>\n      <td>1.111955</td>\n      <td>0.0</td>\n      <td>0.0</td>\n      <td>5.0</td>\n      <td>5.0</td>\n      <td>1.259677e+09</td>\n      <td>1.319794e+09</td>\n      <td>387851.612903</td>\n      <td>15634080.0</td>\n      <td>0.0</td>\n      <td>60117000.0</td>\n      <td>5.909084</td>\n      <td>0.167742</td>\n      <td>-0.255582</td>\n      <td>-2.405806e-02</td>\n      <td>-3.729000e+00</td>\n      <td>-0.137642</td>\n      <td>1.283806e-01</td>\n      <td>0.163004</td>\n    </tr>\n  </tbody>\n</table>\n<p>5722 rows × 69 columns</p>\n</div>"
          },
          "metadata": {},
          "execution_count": 10
        }
      ],
      "source": [
        "train"
      ],
      "id": "HjLqWyFEUYEW"
    },
    {
      "cell_type": "code",
      "execution_count": null,
      "metadata": {
        "id": "dPC8m-kQUYEW",
        "outputId": "b4d11a85-7a6c-4082-ae61-3003bdd6b0d0"
      },
      "outputs": [
        {
          "output_type": "display_data",
          "data": {
            "text/plain": "<pandas.io.formats.style.Styler at 0x7fbfeacb9410>",
            "text/html": "<style  type=\"text/css\" >\n</style><table id=\"T_a8102_\" ><thead>    <tr>        <th class=\"blank level0\" ></th>        <th class=\"col_heading level0 col0\" >Description</th>        <th class=\"col_heading level0 col1\" >Value</th>    </tr></thead><tbody>\n                <tr>\n                        <th id=\"T_a8102_level0_row0\" class=\"row_heading level0 row0\" >0</th>\n                        <td id=\"T_a8102_row0_col0\" class=\"data row0 col0\" >session_id</td>\n                        <td id=\"T_a8102_row0_col1\" class=\"data row0 col1\" >1974</td>\n            </tr>\n            <tr>\n                        <th id=\"T_a8102_level0_row1\" class=\"row_heading level0 row1\" >1</th>\n                        <td id=\"T_a8102_row1_col0\" class=\"data row1 col0\" >Target</td>\n                        <td id=\"T_a8102_row1_col1\" class=\"data row1 col1\" >label</td>\n            </tr>\n            <tr>\n                        <th id=\"T_a8102_level0_row2\" class=\"row_heading level0 row2\" >2</th>\n                        <td id=\"T_a8102_row2_col0\" class=\"data row2 col0\" >Target Type</td>\n                        <td id=\"T_a8102_row2_col1\" class=\"data row2 col1\" >Binary</td>\n            </tr>\n            <tr>\n                        <th id=\"T_a8102_level0_row3\" class=\"row_heading level0 row3\" >3</th>\n                        <td id=\"T_a8102_row3_col0\" class=\"data row3 col0\" >Label Encoded</td>\n                        <td id=\"T_a8102_row3_col1\" class=\"data row3 col1\" >0: 0, 1: 1</td>\n            </tr>\n            <tr>\n                        <th id=\"T_a8102_level0_row4\" class=\"row_heading level0 row4\" >4</th>\n                        <td id=\"T_a8102_row4_col0\" class=\"data row4 col0\" >Original Data</td>\n                        <td id=\"T_a8102_row4_col1\" class=\"data row4 col1\" >(5722, 69)</td>\n            </tr>\n            <tr>\n                        <th id=\"T_a8102_level0_row5\" class=\"row_heading level0 row5\" >5</th>\n                        <td id=\"T_a8102_row5_col0\" class=\"data row5 col0\" >Missing Values</td>\n                        <td id=\"T_a8102_row5_col1\" class=\"data row5 col1\" >False</td>\n            </tr>\n            <tr>\n                        <th id=\"T_a8102_level0_row6\" class=\"row_heading level0 row6\" >6</th>\n                        <td id=\"T_a8102_row6_col0\" class=\"data row6 col0\" >Numeric Features</td>\n                        <td id=\"T_a8102_row6_col1\" class=\"data row6 col1\" >68</td>\n            </tr>\n            <tr>\n                        <th id=\"T_a8102_level0_row7\" class=\"row_heading level0 row7\" >7</th>\n                        <td id=\"T_a8102_row7_col0\" class=\"data row7 col0\" >Categorical Features</td>\n                        <td id=\"T_a8102_row7_col1\" class=\"data row7 col1\" >0</td>\n            </tr>\n            <tr>\n                        <th id=\"T_a8102_level0_row8\" class=\"row_heading level0 row8\" >8</th>\n                        <td id=\"T_a8102_row8_col0\" class=\"data row8 col0\" >Ordinal Features</td>\n                        <td id=\"T_a8102_row8_col1\" class=\"data row8 col1\" >False</td>\n            </tr>\n            <tr>\n                        <th id=\"T_a8102_level0_row9\" class=\"row_heading level0 row9\" >9</th>\n                        <td id=\"T_a8102_row9_col0\" class=\"data row9 col0\" >High Cardinality Features</td>\n                        <td id=\"T_a8102_row9_col1\" class=\"data row9 col1\" >False</td>\n            </tr>\n            <tr>\n                        <th id=\"T_a8102_level0_row10\" class=\"row_heading level0 row10\" >10</th>\n                        <td id=\"T_a8102_row10_col0\" class=\"data row10 col0\" >High Cardinality Method</td>\n                        <td id=\"T_a8102_row10_col1\" class=\"data row10 col1\" >None</td>\n            </tr>\n            <tr>\n                        <th id=\"T_a8102_level0_row11\" class=\"row_heading level0 row11\" >11</th>\n                        <td id=\"T_a8102_row11_col0\" class=\"data row11 col0\" >Transformed Train Set</td>\n                        <td id=\"T_a8102_row11_col1\" class=\"data row11 col1\" >(4005, 68)</td>\n            </tr>\n            <tr>\n                        <th id=\"T_a8102_level0_row12\" class=\"row_heading level0 row12\" >12</th>\n                        <td id=\"T_a8102_row12_col0\" class=\"data row12 col0\" >Transformed Test Set</td>\n                        <td id=\"T_a8102_row12_col1\" class=\"data row12 col1\" >(1717, 68)</td>\n            </tr>\n            <tr>\n                        <th id=\"T_a8102_level0_row13\" class=\"row_heading level0 row13\" >13</th>\n                        <td id=\"T_a8102_row13_col0\" class=\"data row13 col0\" >Shuffle Train-Test</td>\n                        <td id=\"T_a8102_row13_col1\" class=\"data row13 col1\" >True</td>\n            </tr>\n            <tr>\n                        <th id=\"T_a8102_level0_row14\" class=\"row_heading level0 row14\" >14</th>\n                        <td id=\"T_a8102_row14_col0\" class=\"data row14 col0\" >Stratify Train-Test</td>\n                        <td id=\"T_a8102_row14_col1\" class=\"data row14 col1\" >False</td>\n            </tr>\n            <tr>\n                        <th id=\"T_a8102_level0_row15\" class=\"row_heading level0 row15\" >15</th>\n                        <td id=\"T_a8102_row15_col0\" class=\"data row15 col0\" >Fold Generator</td>\n                        <td id=\"T_a8102_row15_col1\" class=\"data row15 col1\" >StratifiedKFold</td>\n            </tr>\n            <tr>\n                        <th id=\"T_a8102_level0_row16\" class=\"row_heading level0 row16\" >16</th>\n                        <td id=\"T_a8102_row16_col0\" class=\"data row16 col0\" >Fold Number</td>\n                        <td id=\"T_a8102_row16_col1\" class=\"data row16 col1\" >10</td>\n            </tr>\n            <tr>\n                        <th id=\"T_a8102_level0_row17\" class=\"row_heading level0 row17\" >17</th>\n                        <td id=\"T_a8102_row17_col0\" class=\"data row17 col0\" >CPU Jobs</td>\n                        <td id=\"T_a8102_row17_col1\" class=\"data row17 col1\" >-1</td>\n            </tr>\n            <tr>\n                        <th id=\"T_a8102_level0_row18\" class=\"row_heading level0 row18\" >18</th>\n                        <td id=\"T_a8102_row18_col0\" class=\"data row18 col0\" >Use GPU</td>\n                        <td id=\"T_a8102_row18_col1\" class=\"data row18 col1\" >False</td>\n            </tr>\n            <tr>\n                        <th id=\"T_a8102_level0_row19\" class=\"row_heading level0 row19\" >19</th>\n                        <td id=\"T_a8102_row19_col0\" class=\"data row19 col0\" >Log Experiment</td>\n                        <td id=\"T_a8102_row19_col1\" class=\"data row19 col1\" >False</td>\n            </tr>\n            <tr>\n                        <th id=\"T_a8102_level0_row20\" class=\"row_heading level0 row20\" >20</th>\n                        <td id=\"T_a8102_row20_col0\" class=\"data row20 col0\" >Experiment Name</td>\n                        <td id=\"T_a8102_row20_col1\" class=\"data row20 col1\" >clf-default-name</td>\n            </tr>\n            <tr>\n                        <th id=\"T_a8102_level0_row21\" class=\"row_heading level0 row21\" >21</th>\n                        <td id=\"T_a8102_row21_col0\" class=\"data row21 col0\" >USI</td>\n                        <td id=\"T_a8102_row21_col1\" class=\"data row21 col1\" >1971</td>\n            </tr>\n            <tr>\n                        <th id=\"T_a8102_level0_row22\" class=\"row_heading level0 row22\" >22</th>\n                        <td id=\"T_a8102_row22_col0\" class=\"data row22 col0\" >Imputation Type</td>\n                        <td id=\"T_a8102_row22_col1\" class=\"data row22 col1\" >simple</td>\n            </tr>\n            <tr>\n                        <th id=\"T_a8102_level0_row23\" class=\"row_heading level0 row23\" >23</th>\n                        <td id=\"T_a8102_row23_col0\" class=\"data row23 col0\" >Iterative Imputation Iteration</td>\n                        <td id=\"T_a8102_row23_col1\" class=\"data row23 col1\" >None</td>\n            </tr>\n            <tr>\n                        <th id=\"T_a8102_level0_row24\" class=\"row_heading level0 row24\" >24</th>\n                        <td id=\"T_a8102_row24_col0\" class=\"data row24 col0\" >Numeric Imputer</td>\n                        <td id=\"T_a8102_row24_col1\" class=\"data row24 col1\" >mean</td>\n            </tr>\n            <tr>\n                        <th id=\"T_a8102_level0_row25\" class=\"row_heading level0 row25\" >25</th>\n                        <td id=\"T_a8102_row25_col0\" class=\"data row25 col0\" >Iterative Imputation Numeric Model</td>\n                        <td id=\"T_a8102_row25_col1\" class=\"data row25 col1\" >None</td>\n            </tr>\n            <tr>\n                        <th id=\"T_a8102_level0_row26\" class=\"row_heading level0 row26\" >26</th>\n                        <td id=\"T_a8102_row26_col0\" class=\"data row26 col0\" >Categorical Imputer</td>\n                        <td id=\"T_a8102_row26_col1\" class=\"data row26 col1\" >constant</td>\n            </tr>\n            <tr>\n                        <th id=\"T_a8102_level0_row27\" class=\"row_heading level0 row27\" >27</th>\n                        <td id=\"T_a8102_row27_col0\" class=\"data row27 col0\" >Iterative Imputation Categorical Model</td>\n                        <td id=\"T_a8102_row27_col1\" class=\"data row27 col1\" >None</td>\n            </tr>\n            <tr>\n                        <th id=\"T_a8102_level0_row28\" class=\"row_heading level0 row28\" >28</th>\n                        <td id=\"T_a8102_row28_col0\" class=\"data row28 col0\" >Unknown Categoricals Handling</td>\n                        <td id=\"T_a8102_row28_col1\" class=\"data row28 col1\" >least_frequent</td>\n            </tr>\n            <tr>\n                        <th id=\"T_a8102_level0_row29\" class=\"row_heading level0 row29\" >29</th>\n                        <td id=\"T_a8102_row29_col0\" class=\"data row29 col0\" >Normalize</td>\n                        <td id=\"T_a8102_row29_col1\" class=\"data row29 col1\" >False</td>\n            </tr>\n            <tr>\n                        <th id=\"T_a8102_level0_row30\" class=\"row_heading level0 row30\" >30</th>\n                        <td id=\"T_a8102_row30_col0\" class=\"data row30 col0\" >Normalize Method</td>\n                        <td id=\"T_a8102_row30_col1\" class=\"data row30 col1\" >None</td>\n            </tr>\n            <tr>\n                        <th id=\"T_a8102_level0_row31\" class=\"row_heading level0 row31\" >31</th>\n                        <td id=\"T_a8102_row31_col0\" class=\"data row31 col0\" >Transformation</td>\n                        <td id=\"T_a8102_row31_col1\" class=\"data row31 col1\" >False</td>\n            </tr>\n            <tr>\n                        <th id=\"T_a8102_level0_row32\" class=\"row_heading level0 row32\" >32</th>\n                        <td id=\"T_a8102_row32_col0\" class=\"data row32 col0\" >Transformation Method</td>\n                        <td id=\"T_a8102_row32_col1\" class=\"data row32 col1\" >None</td>\n            </tr>\n            <tr>\n                        <th id=\"T_a8102_level0_row33\" class=\"row_heading level0 row33\" >33</th>\n                        <td id=\"T_a8102_row33_col0\" class=\"data row33 col0\" >PCA</td>\n                        <td id=\"T_a8102_row33_col1\" class=\"data row33 col1\" >False</td>\n            </tr>\n            <tr>\n                        <th id=\"T_a8102_level0_row34\" class=\"row_heading level0 row34\" >34</th>\n                        <td id=\"T_a8102_row34_col0\" class=\"data row34 col0\" >PCA Method</td>\n                        <td id=\"T_a8102_row34_col1\" class=\"data row34 col1\" >None</td>\n            </tr>\n            <tr>\n                        <th id=\"T_a8102_level0_row35\" class=\"row_heading level0 row35\" >35</th>\n                        <td id=\"T_a8102_row35_col0\" class=\"data row35 col0\" >PCA Components</td>\n                        <td id=\"T_a8102_row35_col1\" class=\"data row35 col1\" >None</td>\n            </tr>\n            <tr>\n                        <th id=\"T_a8102_level0_row36\" class=\"row_heading level0 row36\" >36</th>\n                        <td id=\"T_a8102_row36_col0\" class=\"data row36 col0\" >Ignore Low Variance</td>\n                        <td id=\"T_a8102_row36_col1\" class=\"data row36 col1\" >False</td>\n            </tr>\n            <tr>\n                        <th id=\"T_a8102_level0_row37\" class=\"row_heading level0 row37\" >37</th>\n                        <td id=\"T_a8102_row37_col0\" class=\"data row37 col0\" >Combine Rare Levels</td>\n                        <td id=\"T_a8102_row37_col1\" class=\"data row37 col1\" >False</td>\n            </tr>\n            <tr>\n                        <th id=\"T_a8102_level0_row38\" class=\"row_heading level0 row38\" >38</th>\n                        <td id=\"T_a8102_row38_col0\" class=\"data row38 col0\" >Rare Level Threshold</td>\n                        <td id=\"T_a8102_row38_col1\" class=\"data row38 col1\" >None</td>\n            </tr>\n            <tr>\n                        <th id=\"T_a8102_level0_row39\" class=\"row_heading level0 row39\" >39</th>\n                        <td id=\"T_a8102_row39_col0\" class=\"data row39 col0\" >Numeric Binning</td>\n                        <td id=\"T_a8102_row39_col1\" class=\"data row39 col1\" >False</td>\n            </tr>\n            <tr>\n                        <th id=\"T_a8102_level0_row40\" class=\"row_heading level0 row40\" >40</th>\n                        <td id=\"T_a8102_row40_col0\" class=\"data row40 col0\" >Remove Outliers</td>\n                        <td id=\"T_a8102_row40_col1\" class=\"data row40 col1\" >False</td>\n            </tr>\n            <tr>\n                        <th id=\"T_a8102_level0_row41\" class=\"row_heading level0 row41\" >41</th>\n                        <td id=\"T_a8102_row41_col0\" class=\"data row41 col0\" >Outliers Threshold</td>\n                        <td id=\"T_a8102_row41_col1\" class=\"data row41 col1\" >None</td>\n            </tr>\n            <tr>\n                        <th id=\"T_a8102_level0_row42\" class=\"row_heading level0 row42\" >42</th>\n                        <td id=\"T_a8102_row42_col0\" class=\"data row42 col0\" >Remove Multicollinearity</td>\n                        <td id=\"T_a8102_row42_col1\" class=\"data row42 col1\" >False</td>\n            </tr>\n            <tr>\n                        <th id=\"T_a8102_level0_row43\" class=\"row_heading level0 row43\" >43</th>\n                        <td id=\"T_a8102_row43_col0\" class=\"data row43 col0\" >Multicollinearity Threshold</td>\n                        <td id=\"T_a8102_row43_col1\" class=\"data row43 col1\" >None</td>\n            </tr>\n            <tr>\n                        <th id=\"T_a8102_level0_row44\" class=\"row_heading level0 row44\" >44</th>\n                        <td id=\"T_a8102_row44_col0\" class=\"data row44 col0\" >Clustering</td>\n                        <td id=\"T_a8102_row44_col1\" class=\"data row44 col1\" >False</td>\n            </tr>\n            <tr>\n                        <th id=\"T_a8102_level0_row45\" class=\"row_heading level0 row45\" >45</th>\n                        <td id=\"T_a8102_row45_col0\" class=\"data row45 col0\" >Clustering Iteration</td>\n                        <td id=\"T_a8102_row45_col1\" class=\"data row45 col1\" >None</td>\n            </tr>\n            <tr>\n                        <th id=\"T_a8102_level0_row46\" class=\"row_heading level0 row46\" >46</th>\n                        <td id=\"T_a8102_row46_col0\" class=\"data row46 col0\" >Polynomial Features</td>\n                        <td id=\"T_a8102_row46_col1\" class=\"data row46 col1\" >False</td>\n            </tr>\n            <tr>\n                        <th id=\"T_a8102_level0_row47\" class=\"row_heading level0 row47\" >47</th>\n                        <td id=\"T_a8102_row47_col0\" class=\"data row47 col0\" >Polynomial Degree</td>\n                        <td id=\"T_a8102_row47_col1\" class=\"data row47 col1\" >None</td>\n            </tr>\n            <tr>\n                        <th id=\"T_a8102_level0_row48\" class=\"row_heading level0 row48\" >48</th>\n                        <td id=\"T_a8102_row48_col0\" class=\"data row48 col0\" >Trignometry Features</td>\n                        <td id=\"T_a8102_row48_col1\" class=\"data row48 col1\" >False</td>\n            </tr>\n            <tr>\n                        <th id=\"T_a8102_level0_row49\" class=\"row_heading level0 row49\" >49</th>\n                        <td id=\"T_a8102_row49_col0\" class=\"data row49 col0\" >Polynomial Threshold</td>\n                        <td id=\"T_a8102_row49_col1\" class=\"data row49 col1\" >None</td>\n            </tr>\n            <tr>\n                        <th id=\"T_a8102_level0_row50\" class=\"row_heading level0 row50\" >50</th>\n                        <td id=\"T_a8102_row50_col0\" class=\"data row50 col0\" >Group Features</td>\n                        <td id=\"T_a8102_row50_col1\" class=\"data row50 col1\" >False</td>\n            </tr>\n            <tr>\n                        <th id=\"T_a8102_level0_row51\" class=\"row_heading level0 row51\" >51</th>\n                        <td id=\"T_a8102_row51_col0\" class=\"data row51 col0\" >Feature Selection</td>\n                        <td id=\"T_a8102_row51_col1\" class=\"data row51 col1\" >False</td>\n            </tr>\n            <tr>\n                        <th id=\"T_a8102_level0_row52\" class=\"row_heading level0 row52\" >52</th>\n                        <td id=\"T_a8102_row52_col0\" class=\"data row52 col0\" >Feature Selection Method</td>\n                        <td id=\"T_a8102_row52_col1\" class=\"data row52 col1\" >classic</td>\n            </tr>\n            <tr>\n                        <th id=\"T_a8102_level0_row53\" class=\"row_heading level0 row53\" >53</th>\n                        <td id=\"T_a8102_row53_col0\" class=\"data row53 col0\" >Features Selection Threshold</td>\n                        <td id=\"T_a8102_row53_col1\" class=\"data row53 col1\" >None</td>\n            </tr>\n            <tr>\n                        <th id=\"T_a8102_level0_row54\" class=\"row_heading level0 row54\" >54</th>\n                        <td id=\"T_a8102_row54_col0\" class=\"data row54 col0\" >Feature Interaction</td>\n                        <td id=\"T_a8102_row54_col1\" class=\"data row54 col1\" >False</td>\n            </tr>\n            <tr>\n                        <th id=\"T_a8102_level0_row55\" class=\"row_heading level0 row55\" >55</th>\n                        <td id=\"T_a8102_row55_col0\" class=\"data row55 col0\" >Feature Ratio</td>\n                        <td id=\"T_a8102_row55_col1\" class=\"data row55 col1\" >False</td>\n            </tr>\n            <tr>\n                        <th id=\"T_a8102_level0_row56\" class=\"row_heading level0 row56\" >56</th>\n                        <td id=\"T_a8102_row56_col0\" class=\"data row56 col0\" >Interaction Threshold</td>\n                        <td id=\"T_a8102_row56_col1\" class=\"data row56 col1\" >None</td>\n            </tr>\n            <tr>\n                        <th id=\"T_a8102_level0_row57\" class=\"row_heading level0 row57\" >57</th>\n                        <td id=\"T_a8102_row57_col0\" class=\"data row57 col0\" >Fix Imbalance</td>\n                        <td id=\"T_a8102_row57_col1\" class=\"data row57 col1\" >False</td>\n            </tr>\n            <tr>\n                        <th id=\"T_a8102_level0_row58\" class=\"row_heading level0 row58\" >58</th>\n                        <td id=\"T_a8102_row58_col0\" class=\"data row58 col0\" >Fix Imbalance Method</td>\n                        <td id=\"T_a8102_row58_col1\" class=\"data row58 col1\" >SMOTE</td>\n            </tr>\n    </tbody></table>"
          },
          "metadata": {}
        }
      ],
      "source": [
        "clf = setup(data=train, target='label')"
      ],
      "id": "dPC8m-kQUYEW"
    },
    {
      "cell_type": "code",
      "execution_count": null,
      "metadata": {
        "id": "wNzkEnYJUYEW",
        "outputId": "2ae54de4-6600-4dd0-8c17-342370ef0b23"
      },
      "outputs": [
        {
          "output_type": "display_data",
          "data": {
            "text/plain": "<pandas.io.formats.style.Styler at 0x7facc91f90d0>",
            "text/html": "<style  type=\"text/css\" >\n    #T_2ee5d_ th {\n          text-align: left;\n    }#T_2ee5d_row0_col0,#T_2ee5d_row0_col3,#T_2ee5d_row0_col4,#T_2ee5d_row1_col0,#T_2ee5d_row1_col1,#T_2ee5d_row1_col2,#T_2ee5d_row1_col3,#T_2ee5d_row1_col4,#T_2ee5d_row1_col5,#T_2ee5d_row1_col6,#T_2ee5d_row1_col7,#T_2ee5d_row2_col0,#T_2ee5d_row2_col1,#T_2ee5d_row2_col2,#T_2ee5d_row2_col3,#T_2ee5d_row2_col4,#T_2ee5d_row2_col5,#T_2ee5d_row2_col6,#T_2ee5d_row2_col7,#T_2ee5d_row3_col0,#T_2ee5d_row3_col1,#T_2ee5d_row3_col2,#T_2ee5d_row3_col3,#T_2ee5d_row3_col4,#T_2ee5d_row3_col5,#T_2ee5d_row3_col6,#T_2ee5d_row3_col7,#T_2ee5d_row4_col0,#T_2ee5d_row4_col1,#T_2ee5d_row4_col2,#T_2ee5d_row4_col3,#T_2ee5d_row4_col4,#T_2ee5d_row4_col5,#T_2ee5d_row4_col6,#T_2ee5d_row4_col7,#T_2ee5d_row5_col0,#T_2ee5d_row5_col1,#T_2ee5d_row5_col2,#T_2ee5d_row5_col3,#T_2ee5d_row5_col4,#T_2ee5d_row5_col5,#T_2ee5d_row5_col6,#T_2ee5d_row5_col7,#T_2ee5d_row6_col0,#T_2ee5d_row6_col1,#T_2ee5d_row6_col2,#T_2ee5d_row6_col3,#T_2ee5d_row6_col4,#T_2ee5d_row6_col5,#T_2ee5d_row6_col6,#T_2ee5d_row6_col7,#T_2ee5d_row7_col0,#T_2ee5d_row7_col1,#T_2ee5d_row7_col2,#T_2ee5d_row7_col3,#T_2ee5d_row7_col4,#T_2ee5d_row7_col5,#T_2ee5d_row7_col6,#T_2ee5d_row7_col7,#T_2ee5d_row8_col0,#T_2ee5d_row8_col1,#T_2ee5d_row8_col2,#T_2ee5d_row8_col3,#T_2ee5d_row8_col4,#T_2ee5d_row8_col5,#T_2ee5d_row8_col6,#T_2ee5d_row8_col7,#T_2ee5d_row9_col0,#T_2ee5d_row9_col1,#T_2ee5d_row9_col2,#T_2ee5d_row9_col3,#T_2ee5d_row9_col4,#T_2ee5d_row9_col5,#T_2ee5d_row9_col6,#T_2ee5d_row9_col7,#T_2ee5d_row10_col0,#T_2ee5d_row10_col1,#T_2ee5d_row10_col2,#T_2ee5d_row10_col3,#T_2ee5d_row10_col4,#T_2ee5d_row10_col5,#T_2ee5d_row10_col6,#T_2ee5d_row10_col7,#T_2ee5d_row11_col0,#T_2ee5d_row11_col1,#T_2ee5d_row11_col2,#T_2ee5d_row11_col3,#T_2ee5d_row11_col4,#T_2ee5d_row11_col5,#T_2ee5d_row11_col6,#T_2ee5d_row11_col7,#T_2ee5d_row12_col0,#T_2ee5d_row12_col1,#T_2ee5d_row12_col2,#T_2ee5d_row12_col4,#T_2ee5d_row12_col5,#T_2ee5d_row12_col6,#T_2ee5d_row12_col7,#T_2ee5d_row13_col0,#T_2ee5d_row13_col1,#T_2ee5d_row13_col2,#T_2ee5d_row13_col3,#T_2ee5d_row13_col5,#T_2ee5d_row13_col6,#T_2ee5d_row13_col7,#T_2ee5d_row14_col0,#T_2ee5d_row14_col1,#T_2ee5d_row14_col2,#T_2ee5d_row14_col3,#T_2ee5d_row14_col4,#T_2ee5d_row14_col5,#T_2ee5d_row14_col6,#T_2ee5d_row14_col7{\n            text-align:  left;\n            text-align:  left;\n        }#T_2ee5d_row0_col1,#T_2ee5d_row0_col2,#T_2ee5d_row0_col5,#T_2ee5d_row0_col6,#T_2ee5d_row0_col7,#T_2ee5d_row12_col3,#T_2ee5d_row13_col4{\n            text-align:  left;\n            text-align:  left;\n            background-color:  yellow;\n        }#T_2ee5d_row0_col8,#T_2ee5d_row1_col8,#T_2ee5d_row2_col8,#T_2ee5d_row3_col8,#T_2ee5d_row4_col8,#T_2ee5d_row5_col8,#T_2ee5d_row6_col8,#T_2ee5d_row7_col8,#T_2ee5d_row8_col8,#T_2ee5d_row10_col8,#T_2ee5d_row11_col8,#T_2ee5d_row12_col8,#T_2ee5d_row13_col8,#T_2ee5d_row14_col8{\n            text-align:  left;\n            text-align:  left;\n            background-color:  lightgrey;\n        }#T_2ee5d_row9_col8{\n            text-align:  left;\n            text-align:  left;\n            background-color:  yellow;\n            background-color:  lightgrey;\n        }</style><table id=\"T_2ee5d_\" ><thead>    <tr>        <th class=\"blank level0\" ></th>        <th class=\"col_heading level0 col0\" >Model</th>        <th class=\"col_heading level0 col1\" >Accuracy</th>        <th class=\"col_heading level0 col2\" >AUC</th>        <th class=\"col_heading level0 col3\" >Recall</th>        <th class=\"col_heading level0 col4\" >Prec.</th>        <th class=\"col_heading level0 col5\" >F1</th>        <th class=\"col_heading level0 col6\" >Kappa</th>        <th class=\"col_heading level0 col7\" >MCC</th>        <th class=\"col_heading level0 col8\" >TT (Sec)</th>    </tr></thead><tbody>\n                <tr>\n                        <th id=\"T_2ee5d_level0_row0\" class=\"row_heading level0 row0\" >catboost</th>\n                        <td id=\"T_2ee5d_row0_col0\" class=\"data row0 col0\" >CatBoost Classifier</td>\n                        <td id=\"T_2ee5d_row0_col1\" class=\"data row0 col1\" >0.8302</td>\n                        <td id=\"T_2ee5d_row0_col2\" class=\"data row0 col2\" >0.8245</td>\n                        <td id=\"T_2ee5d_row0_col3\" class=\"data row0 col3\" >0.3769</td>\n                        <td id=\"T_2ee5d_row0_col4\" class=\"data row0 col4\" >0.6555</td>\n                        <td id=\"T_2ee5d_row0_col5\" class=\"data row0 col5\" >0.4756</td>\n                        <td id=\"T_2ee5d_row0_col6\" class=\"data row0 col6\" >0.3840</td>\n                        <td id=\"T_2ee5d_row0_col7\" class=\"data row0 col7\" >0.4061</td>\n                        <td id=\"T_2ee5d_row0_col8\" class=\"data row0 col8\" >6.3690</td>\n            </tr>\n            <tr>\n                        <th id=\"T_2ee5d_level0_row1\" class=\"row_heading level0 row1\" >gbc</th>\n                        <td id=\"T_2ee5d_row1_col0\" class=\"data row1 col0\" >Gradient Boosting Classifier</td>\n                        <td id=\"T_2ee5d_row1_col1\" class=\"data row1 col1\" >0.8257</td>\n                        <td id=\"T_2ee5d_row1_col2\" class=\"data row1 col2\" >0.8172</td>\n                        <td id=\"T_2ee5d_row1_col3\" class=\"data row1 col3\" >0.3587</td>\n                        <td id=\"T_2ee5d_row1_col4\" class=\"data row1 col4\" >0.6388</td>\n                        <td id=\"T_2ee5d_row1_col5\" class=\"data row1 col5\" >0.4566</td>\n                        <td id=\"T_2ee5d_row1_col6\" class=\"data row1 col6\" >0.3635</td>\n                        <td id=\"T_2ee5d_row1_col7\" class=\"data row1 col7\" >0.3860</td>\n                        <td id=\"T_2ee5d_row1_col8\" class=\"data row1 col8\" >1.2160</td>\n            </tr>\n            <tr>\n                        <th id=\"T_2ee5d_level0_row2\" class=\"row_heading level0 row2\" >lda</th>\n                        <td id=\"T_2ee5d_row2_col0\" class=\"data row2 col0\" >Linear Discriminant Analysis</td>\n                        <td id=\"T_2ee5d_row2_col1\" class=\"data row2 col1\" >0.8195</td>\n                        <td id=\"T_2ee5d_row2_col2\" class=\"data row2 col2\" >0.8125</td>\n                        <td id=\"T_2ee5d_row2_col3\" class=\"data row2 col3\" >0.3575</td>\n                        <td id=\"T_2ee5d_row2_col4\" class=\"data row2 col4\" >0.6160</td>\n                        <td id=\"T_2ee5d_row2_col5\" class=\"data row2 col5\" >0.4500</td>\n                        <td id=\"T_2ee5d_row2_col6\" class=\"data row2 col6\" >0.3510</td>\n                        <td id=\"T_2ee5d_row2_col7\" class=\"data row2 col7\" >0.3710</td>\n                        <td id=\"T_2ee5d_row2_col8\" class=\"data row2 col8\" >0.0310</td>\n            </tr>\n            <tr>\n                        <th id=\"T_2ee5d_level0_row3\" class=\"row_heading level0 row3\" >rf</th>\n                        <td id=\"T_2ee5d_row3_col0\" class=\"data row3 col0\" >Random Forest Classifier</td>\n                        <td id=\"T_2ee5d_row3_col1\" class=\"data row3 col1\" >0.8272</td>\n                        <td id=\"T_2ee5d_row3_col2\" class=\"data row3 col2\" >0.8124</td>\n                        <td id=\"T_2ee5d_row3_col3\" class=\"data row3 col3\" >0.3237</td>\n                        <td id=\"T_2ee5d_row3_col4\" class=\"data row3 col4\" >0.6705</td>\n                        <td id=\"T_2ee5d_row3_col5\" class=\"data row3 col5\" >0.4334</td>\n                        <td id=\"T_2ee5d_row3_col6\" class=\"data row3 col6\" >0.3469</td>\n                        <td id=\"T_2ee5d_row3_col7\" class=\"data row3 col7\" >0.3801</td>\n                        <td id=\"T_2ee5d_row3_col8\" class=\"data row3 col8\" >0.4240</td>\n            </tr>\n            <tr>\n                        <th id=\"T_2ee5d_level0_row4\" class=\"row_heading level0 row4\" >et</th>\n                        <td id=\"T_2ee5d_row4_col0\" class=\"data row4 col0\" >Extra Trees Classifier</td>\n                        <td id=\"T_2ee5d_row4_col1\" class=\"data row4 col1\" >0.8252</td>\n                        <td id=\"T_2ee5d_row4_col2\" class=\"data row4 col2\" >0.8122</td>\n                        <td id=\"T_2ee5d_row4_col3\" class=\"data row4 col3\" >0.3165</td>\n                        <td id=\"T_2ee5d_row4_col4\" class=\"data row4 col4\" >0.6590</td>\n                        <td id=\"T_2ee5d_row4_col5\" class=\"data row4 col5\" >0.4251</td>\n                        <td id=\"T_2ee5d_row4_col6\" class=\"data row4 col6\" >0.3380</td>\n                        <td id=\"T_2ee5d_row4_col7\" class=\"data row4 col7\" >0.3702</td>\n                        <td id=\"T_2ee5d_row4_col8\" class=\"data row4 col8\" >0.2850</td>\n            </tr>\n            <tr>\n                        <th id=\"T_2ee5d_level0_row5\" class=\"row_heading level0 row5\" >lightgbm</th>\n                        <td id=\"T_2ee5d_row5_col0\" class=\"data row5 col0\" >Light Gradient Boosting Machine</td>\n                        <td id=\"T_2ee5d_row5_col1\" class=\"data row5 col1\" >0.8227</td>\n                        <td id=\"T_2ee5d_row5_col2\" class=\"data row5 col2\" >0.8113</td>\n                        <td id=\"T_2ee5d_row5_col3\" class=\"data row5 col3\" >0.3866</td>\n                        <td id=\"T_2ee5d_row5_col4\" class=\"data row5 col4\" >0.6115</td>\n                        <td id=\"T_2ee5d_row5_col5\" class=\"data row5 col5\" >0.4715</td>\n                        <td id=\"T_2ee5d_row5_col6\" class=\"data row5 col6\" >0.3723</td>\n                        <td id=\"T_2ee5d_row5_col7\" class=\"data row5 col7\" >0.3873</td>\n                        <td id=\"T_2ee5d_row5_col8\" class=\"data row5 col8\" >0.1920</td>\n            </tr>\n            <tr>\n                        <th id=\"T_2ee5d_level0_row6\" class=\"row_heading level0 row6\" >ada</th>\n                        <td id=\"T_2ee5d_row6_col0\" class=\"data row6 col0\" >Ada Boost Classifier</td>\n                        <td id=\"T_2ee5d_row6_col1\" class=\"data row6 col1\" >0.8145</td>\n                        <td id=\"T_2ee5d_row6_col2\" class=\"data row6 col2\" >0.8013</td>\n                        <td id=\"T_2ee5d_row6_col3\" class=\"data row6 col3\" >0.3925</td>\n                        <td id=\"T_2ee5d_row6_col4\" class=\"data row6 col4\" >0.5754</td>\n                        <td id=\"T_2ee5d_row6_col5\" class=\"data row6 col5\" >0.4656</td>\n                        <td id=\"T_2ee5d_row6_col6\" class=\"data row6 col6\" >0.3585</td>\n                        <td id=\"T_2ee5d_row6_col7\" class=\"data row6 col7\" >0.3686</td>\n                        <td id=\"T_2ee5d_row6_col8\" class=\"data row6 col8\" >0.2740</td>\n            </tr>\n            <tr>\n                        <th id=\"T_2ee5d_level0_row7\" class=\"row_heading level0 row7\" >xgboost</th>\n                        <td id=\"T_2ee5d_row7_col0\" class=\"data row7 col0\" >Extreme Gradient Boosting</td>\n                        <td id=\"T_2ee5d_row7_col1\" class=\"data row7 col1\" >0.8180</td>\n                        <td id=\"T_2ee5d_row7_col2\" class=\"data row7 col2\" >0.7979</td>\n                        <td id=\"T_2ee5d_row7_col3\" class=\"data row7 col3\" >0.3877</td>\n                        <td id=\"T_2ee5d_row7_col4\" class=\"data row7 col4\" >0.5929</td>\n                        <td id=\"T_2ee5d_row7_col5\" class=\"data row7 col5\" >0.4670</td>\n                        <td id=\"T_2ee5d_row7_col6\" class=\"data row7 col6\" >0.3634</td>\n                        <td id=\"T_2ee5d_row7_col7\" class=\"data row7 col7\" >0.3762</td>\n                        <td id=\"T_2ee5d_row7_col8\" class=\"data row7 col8\" >12.2370</td>\n            </tr>\n            <tr>\n                        <th id=\"T_2ee5d_level0_row8\" class=\"row_heading level0 row8\" >nb</th>\n                        <td id=\"T_2ee5d_row8_col0\" class=\"data row8 col0\" >Naive Bayes</td>\n                        <td id=\"T_2ee5d_row8_col1\" class=\"data row8 col1\" >0.8067</td>\n                        <td id=\"T_2ee5d_row8_col2\" class=\"data row8 col2\" >0.7796</td>\n                        <td id=\"T_2ee5d_row8_col3\" class=\"data row8 col3\" >0.2560</td>\n                        <td id=\"T_2ee5d_row8_col4\" class=\"data row8 col4\" >0.5885</td>\n                        <td id=\"T_2ee5d_row8_col5\" class=\"data row8 col5\" >0.3517</td>\n                        <td id=\"T_2ee5d_row8_col6\" class=\"data row8 col6\" >0.2587</td>\n                        <td id=\"T_2ee5d_row8_col7\" class=\"data row8 col7\" >0.2919</td>\n                        <td id=\"T_2ee5d_row8_col8\" class=\"data row8 col8\" >0.0190</td>\n            </tr>\n            <tr>\n                        <th id=\"T_2ee5d_level0_row9\" class=\"row_heading level0 row9\" >qda</th>\n                        <td id=\"T_2ee5d_row9_col0\" class=\"data row9 col0\" >Quadratic Discriminant Analysis</td>\n                        <td id=\"T_2ee5d_row9_col1\" class=\"data row9 col1\" >0.8085</td>\n                        <td id=\"T_2ee5d_row9_col2\" class=\"data row9 col2\" >0.7755</td>\n                        <td id=\"T_2ee5d_row9_col3\" class=\"data row9 col3\" >0.2946</td>\n                        <td id=\"T_2ee5d_row9_col4\" class=\"data row9 col4\" >0.5735</td>\n                        <td id=\"T_2ee5d_row9_col5\" class=\"data row9 col5\" >0.3851</td>\n                        <td id=\"T_2ee5d_row9_col6\" class=\"data row9 col6\" >0.2866</td>\n                        <td id=\"T_2ee5d_row9_col7\" class=\"data row9 col7\" >0.3105</td>\n                        <td id=\"T_2ee5d_row9_col8\" class=\"data row9 col8\" >0.0180</td>\n            </tr>\n            <tr>\n                        <th id=\"T_2ee5d_level0_row10\" class=\"row_heading level0 row10\" >lr</th>\n                        <td id=\"T_2ee5d_row10_col0\" class=\"data row10 col0\" >Logistic Regression</td>\n                        <td id=\"T_2ee5d_row10_col1\" class=\"data row10 col1\" >0.8200</td>\n                        <td id=\"T_2ee5d_row10_col2\" class=\"data row10 col2\" >0.7526</td>\n                        <td id=\"T_2ee5d_row10_col3\" class=\"data row10 col3\" >0.2863</td>\n                        <td id=\"T_2ee5d_row10_col4\" class=\"data row10 col4\" >0.6455</td>\n                        <td id=\"T_2ee5d_row10_col5\" class=\"data row10 col5\" >0.3951</td>\n                        <td id=\"T_2ee5d_row10_col6\" class=\"data row10 col6\" >0.3080</td>\n                        <td id=\"T_2ee5d_row10_col7\" class=\"data row10 col7\" >0.3437</td>\n                        <td id=\"T_2ee5d_row10_col8\" class=\"data row10 col8\" >0.0350</td>\n            </tr>\n            <tr>\n                        <th id=\"T_2ee5d_level0_row11\" class=\"row_heading level0 row11\" >knn</th>\n                        <td id=\"T_2ee5d_row11_col0\" class=\"data row11 col0\" >K Neighbors Classifier</td>\n                        <td id=\"T_2ee5d_row11_col1\" class=\"data row11 col1\" >0.8035</td>\n                        <td id=\"T_2ee5d_row11_col2\" class=\"data row11 col2\" >0.7286</td>\n                        <td id=\"T_2ee5d_row11_col3\" class=\"data row11 col3\" >0.3562</td>\n                        <td id=\"T_2ee5d_row11_col4\" class=\"data row11 col4\" >0.5432</td>\n                        <td id=\"T_2ee5d_row11_col5\" class=\"data row11 col5\" >0.4282</td>\n                        <td id=\"T_2ee5d_row11_col6\" class=\"data row11 col6\" >0.3158</td>\n                        <td id=\"T_2ee5d_row11_col7\" class=\"data row11 col7\" >0.3272</td>\n                        <td id=\"T_2ee5d_row11_col8\" class=\"data row11 col8\" >0.0670</td>\n            </tr>\n            <tr>\n                        <th id=\"T_2ee5d_level0_row12\" class=\"row_heading level0 row12\" >dt</th>\n                        <td id=\"T_2ee5d_row12_col0\" class=\"data row12 col0\" >Decision Tree Classifier</td>\n                        <td id=\"T_2ee5d_row12_col1\" class=\"data row12 col1\" >0.7528</td>\n                        <td id=\"T_2ee5d_row12_col2\" class=\"data row12 col2\" >0.6357</td>\n                        <td id=\"T_2ee5d_row12_col3\" class=\"data row12 col3\" >0.4360</td>\n                        <td id=\"T_2ee5d_row12_col4\" class=\"data row12 col4\" >0.4102</td>\n                        <td id=\"T_2ee5d_row12_col5\" class=\"data row12 col5\" >0.4222</td>\n                        <td id=\"T_2ee5d_row12_col6\" class=\"data row12 col6\" >0.2654</td>\n                        <td id=\"T_2ee5d_row12_col7\" class=\"data row12 col7\" >0.2658</td>\n                        <td id=\"T_2ee5d_row12_col8\" class=\"data row12 col8\" >0.0660</td>\n            </tr>\n            <tr>\n                        <th id=\"T_2ee5d_level0_row13\" class=\"row_heading level0 row13\" >svm</th>\n                        <td id=\"T_2ee5d_row13_col0\" class=\"data row13 col0\" >SVM - Linear Kernel</td>\n                        <td id=\"T_2ee5d_row13_col1\" class=\"data row13 col1\" >0.8062</td>\n                        <td id=\"T_2ee5d_row13_col2\" class=\"data row13 col2\" >0.0000</td>\n                        <td id=\"T_2ee5d_row13_col3\" class=\"data row13 col3\" >0.2271</td>\n                        <td id=\"T_2ee5d_row13_col4\" class=\"data row13 col4\" >0.7220</td>\n                        <td id=\"T_2ee5d_row13_col5\" class=\"data row13 col5\" >0.2864</td>\n                        <td id=\"T_2ee5d_row13_col6\" class=\"data row13 col6\" >0.2197</td>\n                        <td id=\"T_2ee5d_row13_col7\" class=\"data row13 col7\" >0.2794</td>\n                        <td id=\"T_2ee5d_row13_col8\" class=\"data row13 col8\" >0.0340</td>\n            </tr>\n            <tr>\n                        <th id=\"T_2ee5d_level0_row14\" class=\"row_heading level0 row14\" >ridge</th>\n                        <td id=\"T_2ee5d_row14_col0\" class=\"data row14 col0\" >Ridge Classifier</td>\n                        <td id=\"T_2ee5d_row14_col1\" class=\"data row14 col1\" >0.8200</td>\n                        <td id=\"T_2ee5d_row14_col2\" class=\"data row14 col2\" >0.0000</td>\n                        <td id=\"T_2ee5d_row14_col3\" class=\"data row14 col3\" >0.2598</td>\n                        <td id=\"T_2ee5d_row14_col4\" class=\"data row14 col4\" >0.6746</td>\n                        <td id=\"T_2ee5d_row14_col5\" class=\"data row14 col5\" >0.3712</td>\n                        <td id=\"T_2ee5d_row14_col6\" class=\"data row14 col6\" >0.2903</td>\n                        <td id=\"T_2ee5d_row14_col7\" class=\"data row14 col7\" >0.3371</td>\n                        <td id=\"T_2ee5d_row14_col8\" class=\"data row14 col8\" >0.0230</td>\n            </tr>\n    </tbody></table>"
          },
          "metadata": {}
        }
      ],
      "source": [
        "best=compare_models(sort='AUC', n_select= 5)"
      ],
      "id": "wNzkEnYJUYEW"
    },
    {
      "cell_type": "code",
      "execution_count": null,
      "metadata": {
        "id": "_JcnDpDtUYEW",
        "outputId": "d08d0971-2e41-43bf-80e8-140f92aef77e"
      },
      "outputs": [
        {
          "output_type": "display_data",
          "data": {
            "text/plain": "<pandas.io.formats.style.Styler at 0x7fabad2bf290>",
            "text/html": "<style  type=\"text/css\" >\n#T_f5a74_row5_col0,#T_f5a74_row5_col1,#T_f5a74_row5_col2,#T_f5a74_row5_col3,#T_f5a74_row5_col4,#T_f5a74_row5_col5,#T_f5a74_row5_col6{\n            background:  yellow;\n        }</style><table id=\"T_f5a74_\" ><thead>    <tr>        <th class=\"blank level0\" ></th>        <th class=\"col_heading level0 col0\" >Accuracy</th>        <th class=\"col_heading level0 col1\" >AUC</th>        <th class=\"col_heading level0 col2\" >Recall</th>        <th class=\"col_heading level0 col3\" >Prec.</th>        <th class=\"col_heading level0 col4\" >F1</th>        <th class=\"col_heading level0 col5\" >Kappa</th>        <th class=\"col_heading level0 col6\" >MCC</th>    </tr></thead><tbody>\n                <tr>\n                        <th id=\"T_f5a74_level0_row0\" class=\"row_heading level0 row0\" >0</th>\n                        <td id=\"T_f5a74_row0_col0\" class=\"data row0 col0\" >0.8102</td>\n                        <td id=\"T_f5a74_row0_col1\" class=\"data row0 col1\" >0.8114</td>\n                        <td id=\"T_f5a74_row0_col2\" class=\"data row0 col2\" >0.3212</td>\n                        <td id=\"T_f5a74_row0_col3\" class=\"data row0 col3\" >0.5699</td>\n                        <td id=\"T_f5a74_row0_col4\" class=\"data row0 col4\" >0.4109</td>\n                        <td id=\"T_f5a74_row0_col5\" class=\"data row0 col5\" >0.3081</td>\n                        <td id=\"T_f5a74_row0_col6\" class=\"data row0 col6\" >0.3261</td>\n            </tr>\n            <tr>\n                        <th id=\"T_f5a74_level0_row1\" class=\"row_heading level0 row1\" >1</th>\n                        <td id=\"T_f5a74_row1_col0\" class=\"data row1 col0\" >0.8290</td>\n                        <td id=\"T_f5a74_row1_col1\" class=\"data row1 col1\" >0.8385</td>\n                        <td id=\"T_f5a74_row1_col2\" class=\"data row1 col2\" >0.2909</td>\n                        <td id=\"T_f5a74_row1_col3\" class=\"data row1 col3\" >0.7059</td>\n                        <td id=\"T_f5a74_row1_col4\" class=\"data row1 col4\" >0.4120</td>\n                        <td id=\"T_f5a74_row1_col5\" class=\"data row1 col5\" >0.3317</td>\n                        <td id=\"T_f5a74_row1_col6\" class=\"data row1 col6\" >0.3765</td>\n            </tr>\n            <tr>\n                        <th id=\"T_f5a74_level0_row2\" class=\"row_heading level0 row2\" >2</th>\n                        <td id=\"T_f5a74_row2_col0\" class=\"data row2 col0\" >0.8315</td>\n                        <td id=\"T_f5a74_row2_col1\" class=\"data row2 col1\" >0.8193</td>\n                        <td id=\"T_f5a74_row2_col2\" class=\"data row2 col2\" >0.3614</td>\n                        <td id=\"T_f5a74_row2_col3\" class=\"data row2 col3\" >0.6742</td>\n                        <td id=\"T_f5a74_row2_col4\" class=\"data row2 col4\" >0.4706</td>\n                        <td id=\"T_f5a74_row2_col5\" class=\"data row2 col5\" >0.3810</td>\n                        <td id=\"T_f5a74_row2_col6\" class=\"data row2 col6\" >0.4073</td>\n            </tr>\n            <tr>\n                        <th id=\"T_f5a74_level0_row3\" class=\"row_heading level0 row3\" >3</th>\n                        <td id=\"T_f5a74_row3_col0\" class=\"data row3 col0\" >0.8365</td>\n                        <td id=\"T_f5a74_row3_col1\" class=\"data row3 col1\" >0.8303</td>\n                        <td id=\"T_f5a74_row3_col2\" class=\"data row3 col2\" >0.4217</td>\n                        <td id=\"T_f5a74_row3_col3\" class=\"data row3 col3\" >0.6667</td>\n                        <td id=\"T_f5a74_row3_col4\" class=\"data row3 col4\" >0.5166</td>\n                        <td id=\"T_f5a74_row3_col5\" class=\"data row3 col5\" >0.4241</td>\n                        <td id=\"T_f5a74_row3_col6\" class=\"data row3 col6\" >0.4402</td>\n            </tr>\n            <tr>\n                        <th id=\"T_f5a74_level0_row4\" class=\"row_heading level0 row4\" >4</th>\n                        <td id=\"T_f5a74_row4_col0\" class=\"data row4 col0\" >0.8277</td>\n                        <td id=\"T_f5a74_row4_col1\" class=\"data row4 col1\" >0.8212</td>\n                        <td id=\"T_f5a74_row4_col2\" class=\"data row4 col2\" >0.4277</td>\n                        <td id=\"T_f5a74_row4_col3\" class=\"data row4 col3\" >0.6228</td>\n                        <td id=\"T_f5a74_row4_col4\" class=\"data row4 col4\" >0.5071</td>\n                        <td id=\"T_f5a74_row4_col5\" class=\"data row4 col5\" >0.4071</td>\n                        <td id=\"T_f5a74_row4_col6\" class=\"data row4 col6\" >0.4176</td>\n            </tr>\n            <tr>\n                        <th id=\"T_f5a74_level0_row5\" class=\"row_heading level0 row5\" >Mean</th>\n                        <td id=\"T_f5a74_row5_col0\" class=\"data row5 col0\" >0.8270</td>\n                        <td id=\"T_f5a74_row5_col1\" class=\"data row5 col1\" >0.8242</td>\n                        <td id=\"T_f5a74_row5_col2\" class=\"data row5 col2\" >0.3646</td>\n                        <td id=\"T_f5a74_row5_col3\" class=\"data row5 col3\" >0.6479</td>\n                        <td id=\"T_f5a74_row5_col4\" class=\"data row5 col4\" >0.4634</td>\n                        <td id=\"T_f5a74_row5_col5\" class=\"data row5 col5\" >0.3704</td>\n                        <td id=\"T_f5a74_row5_col6\" class=\"data row5 col6\" >0.3936</td>\n            </tr>\n            <tr>\n                        <th id=\"T_f5a74_level0_row6\" class=\"row_heading level0 row6\" >SD</th>\n                        <td id=\"T_f5a74_row6_col0\" class=\"data row6 col0\" >0.0089</td>\n                        <td id=\"T_f5a74_row6_col1\" class=\"data row6 col1\" >0.0094</td>\n                        <td id=\"T_f5a74_row6_col2\" class=\"data row6 col2\" >0.0540</td>\n                        <td id=\"T_f5a74_row6_col3\" class=\"data row6 col3\" >0.0472</td>\n                        <td id=\"T_f5a74_row6_col4\" class=\"data row6 col4\" >0.0452</td>\n                        <td id=\"T_f5a74_row6_col5\" class=\"data row6 col5\" >0.0441</td>\n                        <td id=\"T_f5a74_row6_col6\" class=\"data row6 col6\" >0.0395</td>\n            </tr>\n    </tbody></table>"
          },
          "metadata": {}
        }
      ],
      "source": [
        "blended = blend_models(estimator_list=[best[0], best[1]], fold = 5, method='soft')"
      ],
      "id": "_JcnDpDtUYEW"
    },
    {
      "cell_type": "code",
      "execution_count": null,
      "metadata": {
        "id": "105LbFkdUYEX",
        "outputId": "e5467f2b-14d1-404f-b5b3-adf4fc0f2851"
      },
      "outputs": [
        {
          "output_type": "display_data",
          "data": {
            "text/plain": "<pandas.io.formats.style.Styler at 0x7fabad4531d0>",
            "text/html": "<style  type=\"text/css\" >\n</style><table id=\"T_2570a_\" ><thead>    <tr>        <th class=\"blank level0\" ></th>        <th class=\"col_heading level0 col0\" >Model</th>        <th class=\"col_heading level0 col1\" >Accuracy</th>        <th class=\"col_heading level0 col2\" >AUC</th>        <th class=\"col_heading level0 col3\" >Recall</th>        <th class=\"col_heading level0 col4\" >Prec.</th>        <th class=\"col_heading level0 col5\" >F1</th>        <th class=\"col_heading level0 col6\" >Kappa</th>        <th class=\"col_heading level0 col7\" >MCC</th>    </tr></thead><tbody>\n                <tr>\n                        <th id=\"T_2570a_level0_row0\" class=\"row_heading level0 row0\" >0</th>\n                        <td id=\"T_2570a_row0_col0\" class=\"data row0 col0\" >Voting Classifier</td>\n                        <td id=\"T_2570a_row0_col1\" class=\"data row0 col1\" >0.8480</td>\n                        <td id=\"T_2570a_row0_col2\" class=\"data row0 col2\" >0.8270</td>\n                        <td id=\"T_2570a_row0_col3\" class=\"data row0 col3\" >0.3726</td>\n                        <td id=\"T_2570a_row0_col4\" class=\"data row0 col4\" >0.6464</td>\n                        <td id=\"T_2570a_row0_col5\" class=\"data row0 col5\" >0.4727</td>\n                        <td id=\"T_2570a_row0_col6\" class=\"data row0 col6\" >0.3913</td>\n                        <td id=\"T_2570a_row0_col7\" class=\"data row0 col7\" >0.4116</td>\n            </tr>\n    </tbody></table>"
          },
          "metadata": {}
        }
      ],
      "source": [
        "pred_holdout=predict_model(blended2)"
      ],
      "id": "105LbFkdUYEX"
    },
    {
      "cell_type": "code",
      "execution_count": null,
      "metadata": {
        "id": "3_t5SztHUYEX"
      },
      "outputs": [],
      "source": [
        "final_model=finalize_model(blended)"
      ],
      "id": "3_t5SztHUYEX"
    },
    {
      "cell_type": "code",
      "execution_count": null,
      "metadata": {
        "id": "YfrFMMdDUYEX"
      },
      "outputs": [],
      "source": [
        "predictions=predict_model(final_model, data=test)"
      ],
      "id": "YfrFMMdDUYEX"
    },
    {
      "cell_type": "code",
      "execution_count": null,
      "metadata": {
        "id": "wUtn4KAkUYEX",
        "outputId": "a70a6888-d91f-4e25-82d3-240e1b5cb15b"
      },
      "outputs": [
        {
          "output_type": "execute_result",
          "data": {
            "text/plain": [
              "      label  quantity-mean  quantity-max  quantity-sum  quantity-count  \\\n",
              "0         0       1.127660       74215.0          53.0            47.0   \n",
              "1         0      13.151659         240.0        2775.0           211.0   \n",
              "2         0      53.215686         144.0        2714.0            51.0   \n",
              "3         0       8.994444          48.0        1619.0           180.0   \n",
              "4         0      11.588235          24.0         197.0            17.0   \n",
              "...     ...            ...           ...           ...             ...   \n",
              "5909      0       1.730856          13.0        1537.0           888.0   \n",
              "5910      0      17.000000          50.0         493.0            29.0   \n",
              "5911      0      12.083333          80.0         145.0            12.0   \n",
              "5912      0       8.457143          36.0         592.0            70.0   \n",
              "5913      0      19.301282          60.0        3011.0           156.0   \n",
              "\n",
              "      quantity-skew  price-mean  price-max  price-sum  price-skew  ...  \\\n",
              "0         -0.000228   19.922872   234.8115   936.3750    4.547689  ...   \n",
              "1         10.216574    4.230803    21.0375   892.6995    2.511623  ...   \n",
              "2          0.822147    6.247353    66.0000   318.6150    3.224035  ...   \n",
              "3          1.718638   13.792075   495.0000  2482.5735    7.661229  ...   \n",
              "4          0.472554    6.337941    66.0000   107.7450    4.098028  ...   \n",
              "...             ...         ...        ...        ...         ...  ...   \n",
              "5909       4.464300    2.947368    26.3175  2617.2630    3.900581  ...   \n",
              "5910       1.006840    6.605121    82.5000   191.5485    4.144780  ...   \n",
              "5911       3.258881   13.777500    82.5000   165.3300    2.931939  ...   \n",
              "5912       1.525244    7.225821    82.5000   505.8075    4.944969  ...   \n",
              "5913       1.007820    3.690183    82.5000   575.6685    9.800051  ...   \n",
              "\n",
              "      order_ts_diff-skew  quantity_diff-mean  quantity_diff-skew  \\\n",
              "0               3.439852        -1613.586957           -4.214331   \n",
              "1               6.372104            0.000000            0.304318   \n",
              "2               4.710186           -0.460000            0.066540   \n",
              "3               9.890780            0.011173           -0.099464   \n",
              "4               0.000000            0.000000           -0.831202   \n",
              "...                  ...                 ...                 ...   \n",
              "5909           14.044305            0.010147            0.138229   \n",
              "5910            5.291503           -0.071429           -0.256523   \n",
              "5911            0.000000           -0.090909            0.008851   \n",
              "5912            7.469056           -0.144928            0.525894   \n",
              "5913            5.909084            0.167742           -0.255582   \n",
              "\n",
              "      price_diff-mean  price_diff-sum  price_diff-skew  total_diff-mean  \\\n",
              "0       -1.241087e-01   -5.709000e+00        -0.840908    -2.770156e+03   \n",
              "1       -7.857143e-03   -1.650000e+00         0.840331    -4.714286e-02   \n",
              "2        1.301850e+00    6.509250e+01         0.251831     8.844000e-01   \n",
              "3        2.730796e+00    4.888125e+02         1.905593     2.799930e+00   \n",
              "4        4.440892e-16    7.105427e-15         0.079587     2.220446e-16   \n",
              "...               ...             ...              ...              ...   \n",
              "5909     1.543968e-03    1.369500e+00         0.277995     3.636697e-02   \n",
              "5910    -1.473214e+00   -4.125000e+01        -3.123508    -4.419643e+00   \n",
              "5911     5.257500e+00    5.783250e+01         2.748160     3.015000e+00   \n",
              "5912     1.492174e-01    1.029600e+01         0.599378    -4.782609e-04   \n",
              "5913    -2.405806e-02   -3.729000e+00        -0.137642     1.283806e-01   \n",
              "\n",
              "      total_diff-skew  Label   Score  \n",
              "0           -4.214047      0  0.9625  \n",
              "1            0.041801      0  0.7584  \n",
              "2           -0.069972      0  0.9185  \n",
              "3            1.341806      0  0.8969  \n",
              "4            0.404341      0  0.9229  \n",
              "...               ...    ...     ...  \n",
              "5909         0.573504      1  0.7755  \n",
              "5910        -2.121658      0  0.9499  \n",
              "5911         0.195896      0  0.9845  \n",
              "5912        -0.130166      0  0.9383  \n",
              "5913         0.163004      0  0.8371  \n",
              "\n",
              "[5914 rows x 71 columns]"
            ],
            "text/html": "<div>\n<style scoped>\n    .dataframe tbody tr th:only-of-type {\n        vertical-align: middle;\n    }\n\n    .dataframe tbody tr th {\n        vertical-align: top;\n    }\n\n    .dataframe thead th {\n        text-align: right;\n    }\n</style>\n<table border=\"1\" class=\"dataframe\">\n  <thead>\n    <tr style=\"text-align: right;\">\n      <th></th>\n      <th>label</th>\n      <th>quantity-mean</th>\n      <th>quantity-max</th>\n      <th>quantity-sum</th>\n      <th>quantity-count</th>\n      <th>quantity-skew</th>\n      <th>price-mean</th>\n      <th>price-max</th>\n      <th>price-sum</th>\n      <th>price-skew</th>\n      <th>...</th>\n      <th>order_ts_diff-skew</th>\n      <th>quantity_diff-mean</th>\n      <th>quantity_diff-skew</th>\n      <th>price_diff-mean</th>\n      <th>price_diff-sum</th>\n      <th>price_diff-skew</th>\n      <th>total_diff-mean</th>\n      <th>total_diff-skew</th>\n      <th>Label</th>\n      <th>Score</th>\n    </tr>\n  </thead>\n  <tbody>\n    <tr>\n      <th>0</th>\n      <td>0</td>\n      <td>1.127660</td>\n      <td>74215.0</td>\n      <td>53.0</td>\n      <td>47.0</td>\n      <td>-0.000228</td>\n      <td>19.922872</td>\n      <td>234.8115</td>\n      <td>936.3750</td>\n      <td>4.547689</td>\n      <td>...</td>\n      <td>3.439852</td>\n      <td>-1613.586957</td>\n      <td>-4.214331</td>\n      <td>-1.241087e-01</td>\n      <td>-5.709000e+00</td>\n      <td>-0.840908</td>\n      <td>-2.770156e+03</td>\n      <td>-4.214047</td>\n      <td>0</td>\n      <td>0.9625</td>\n    </tr>\n    <tr>\n      <th>1</th>\n      <td>0</td>\n      <td>13.151659</td>\n      <td>240.0</td>\n      <td>2775.0</td>\n      <td>211.0</td>\n      <td>10.216574</td>\n      <td>4.230803</td>\n      <td>21.0375</td>\n      <td>892.6995</td>\n      <td>2.511623</td>\n      <td>...</td>\n      <td>6.372104</td>\n      <td>0.000000</td>\n      <td>0.304318</td>\n      <td>-7.857143e-03</td>\n      <td>-1.650000e+00</td>\n      <td>0.840331</td>\n      <td>-4.714286e-02</td>\n      <td>0.041801</td>\n      <td>0</td>\n      <td>0.7584</td>\n    </tr>\n    <tr>\n      <th>2</th>\n      <td>0</td>\n      <td>53.215686</td>\n      <td>144.0</td>\n      <td>2714.0</td>\n      <td>51.0</td>\n      <td>0.822147</td>\n      <td>6.247353</td>\n      <td>66.0000</td>\n      <td>318.6150</td>\n      <td>3.224035</td>\n      <td>...</td>\n      <td>4.710186</td>\n      <td>-0.460000</td>\n      <td>0.066540</td>\n      <td>1.301850e+00</td>\n      <td>6.509250e+01</td>\n      <td>0.251831</td>\n      <td>8.844000e-01</td>\n      <td>-0.069972</td>\n      <td>0</td>\n      <td>0.9185</td>\n    </tr>\n    <tr>\n      <th>3</th>\n      <td>0</td>\n      <td>8.994444</td>\n      <td>48.0</td>\n      <td>1619.0</td>\n      <td>180.0</td>\n      <td>1.718638</td>\n      <td>13.792075</td>\n      <td>495.0000</td>\n      <td>2482.5735</td>\n      <td>7.661229</td>\n      <td>...</td>\n      <td>9.890780</td>\n      <td>0.011173</td>\n      <td>-0.099464</td>\n      <td>2.730796e+00</td>\n      <td>4.888125e+02</td>\n      <td>1.905593</td>\n      <td>2.799930e+00</td>\n      <td>1.341806</td>\n      <td>0</td>\n      <td>0.8969</td>\n    </tr>\n    <tr>\n      <th>4</th>\n      <td>0</td>\n      <td>11.588235</td>\n      <td>24.0</td>\n      <td>197.0</td>\n      <td>17.0</td>\n      <td>0.472554</td>\n      <td>6.337941</td>\n      <td>66.0000</td>\n      <td>107.7450</td>\n      <td>4.098028</td>\n      <td>...</td>\n      <td>0.000000</td>\n      <td>0.000000</td>\n      <td>-0.831202</td>\n      <td>4.440892e-16</td>\n      <td>7.105427e-15</td>\n      <td>0.079587</td>\n      <td>2.220446e-16</td>\n      <td>0.404341</td>\n      <td>0</td>\n      <td>0.9229</td>\n    </tr>\n    <tr>\n      <th>...</th>\n      <td>...</td>\n      <td>...</td>\n      <td>...</td>\n      <td>...</td>\n      <td>...</td>\n      <td>...</td>\n      <td>...</td>\n      <td>...</td>\n      <td>...</td>\n      <td>...</td>\n      <td>...</td>\n      <td>...</td>\n      <td>...</td>\n      <td>...</td>\n      <td>...</td>\n      <td>...</td>\n      <td>...</td>\n      <td>...</td>\n      <td>...</td>\n      <td>...</td>\n      <td>...</td>\n    </tr>\n    <tr>\n      <th>5909</th>\n      <td>0</td>\n      <td>1.730856</td>\n      <td>13.0</td>\n      <td>1537.0</td>\n      <td>888.0</td>\n      <td>4.464300</td>\n      <td>2.947368</td>\n      <td>26.3175</td>\n      <td>2617.2630</td>\n      <td>3.900581</td>\n      <td>...</td>\n      <td>14.044305</td>\n      <td>0.010147</td>\n      <td>0.138229</td>\n      <td>1.543968e-03</td>\n      <td>1.369500e+00</td>\n      <td>0.277995</td>\n      <td>3.636697e-02</td>\n      <td>0.573504</td>\n      <td>1</td>\n      <td>0.7755</td>\n    </tr>\n    <tr>\n      <th>5910</th>\n      <td>0</td>\n      <td>17.000000</td>\n      <td>50.0</td>\n      <td>493.0</td>\n      <td>29.0</td>\n      <td>1.006840</td>\n      <td>6.605121</td>\n      <td>82.5000</td>\n      <td>191.5485</td>\n      <td>4.144780</td>\n      <td>...</td>\n      <td>5.291503</td>\n      <td>-0.071429</td>\n      <td>-0.256523</td>\n      <td>-1.473214e+00</td>\n      <td>-4.125000e+01</td>\n      <td>-3.123508</td>\n      <td>-4.419643e+00</td>\n      <td>-2.121658</td>\n      <td>0</td>\n      <td>0.9499</td>\n    </tr>\n    <tr>\n      <th>5911</th>\n      <td>0</td>\n      <td>12.083333</td>\n      <td>80.0</td>\n      <td>145.0</td>\n      <td>12.0</td>\n      <td>3.258881</td>\n      <td>13.777500</td>\n      <td>82.5000</td>\n      <td>165.3300</td>\n      <td>2.931939</td>\n      <td>...</td>\n      <td>0.000000</td>\n      <td>-0.090909</td>\n      <td>0.008851</td>\n      <td>5.257500e+00</td>\n      <td>5.783250e+01</td>\n      <td>2.748160</td>\n      <td>3.015000e+00</td>\n      <td>0.195896</td>\n      <td>0</td>\n      <td>0.9845</td>\n    </tr>\n    <tr>\n      <th>5912</th>\n      <td>0</td>\n      <td>8.457143</td>\n      <td>36.0</td>\n      <td>592.0</td>\n      <td>70.0</td>\n      <td>1.525244</td>\n      <td>7.225821</td>\n      <td>82.5000</td>\n      <td>505.8075</td>\n      <td>4.944969</td>\n      <td>...</td>\n      <td>7.469056</td>\n      <td>-0.144928</td>\n      <td>0.525894</td>\n      <td>1.492174e-01</td>\n      <td>1.029600e+01</td>\n      <td>0.599378</td>\n      <td>-4.782609e-04</td>\n      <td>-0.130166</td>\n      <td>0</td>\n      <td>0.9383</td>\n    </tr>\n    <tr>\n      <th>5913</th>\n      <td>0</td>\n      <td>19.301282</td>\n      <td>60.0</td>\n      <td>3011.0</td>\n      <td>156.0</td>\n      <td>1.007820</td>\n      <td>3.690183</td>\n      <td>82.5000</td>\n      <td>575.6685</td>\n      <td>9.800051</td>\n      <td>...</td>\n      <td>5.909084</td>\n      <td>0.167742</td>\n      <td>-0.255582</td>\n      <td>-2.405806e-02</td>\n      <td>-3.729000e+00</td>\n      <td>-0.137642</td>\n      <td>1.283806e-01</td>\n      <td>0.163004</td>\n      <td>0</td>\n      <td>0.8371</td>\n    </tr>\n  </tbody>\n</table>\n<p>5914 rows × 71 columns</p>\n</div>"
          },
          "metadata": {},
          "execution_count": 17
        }
      ],
      "source": [
        "predictions"
      ],
      "id": "wUtn4KAkUYEX"
    },
    {
      "cell_type": "code",
      "execution_count": null,
      "metadata": {
        "id": "h4MFyZSBUYEY",
        "outputId": "03e07933-9999-44a7-ca61-89b7fe276678"
      },
      "outputs": [
        {
          "output_type": "execute_result",
          "data": {
            "text/plain": [
              "      label  quantity-mean  quantity-max  quantity-sum  quantity-count  \\\n",
              "0         0       1.127660       74215.0          53.0            47.0   \n",
              "1         0      13.151659         240.0        2775.0           211.0   \n",
              "2         0      53.215686         144.0        2714.0            51.0   \n",
              "3         0       8.994444          48.0        1619.0           180.0   \n",
              "4         0      11.588235          24.0         197.0            17.0   \n",
              "...     ...            ...           ...           ...             ...   \n",
              "5909      0       1.730856          13.0        1537.0           888.0   \n",
              "5910      0      17.000000          50.0         493.0            29.0   \n",
              "5911      0      12.083333          80.0         145.0            12.0   \n",
              "5912      0       8.457143          36.0         592.0            70.0   \n",
              "5913      0      19.301282          60.0        3011.0           156.0   \n",
              "\n",
              "      quantity-skew  price-mean  price-max  price-sum  price-skew  ...  \\\n",
              "0         -0.000228   19.922872   234.8115   936.3750    4.547689  ...   \n",
              "1         10.216574    4.230803    21.0375   892.6995    2.511623  ...   \n",
              "2          0.822147    6.247353    66.0000   318.6150    3.224035  ...   \n",
              "3          1.718638   13.792075   495.0000  2482.5735    7.661229  ...   \n",
              "4          0.472554    6.337941    66.0000   107.7450    4.098028  ...   \n",
              "...             ...         ...        ...        ...         ...  ...   \n",
              "5909       4.464300    2.947368    26.3175  2617.2630    3.900581  ...   \n",
              "5910       1.006840    6.605121    82.5000   191.5485    4.144780  ...   \n",
              "5911       3.258881   13.777500    82.5000   165.3300    2.931939  ...   \n",
              "5912       1.525244    7.225821    82.5000   505.8075    4.944969  ...   \n",
              "5913       1.007820    3.690183    82.5000   575.6685    9.800051  ...   \n",
              "\n",
              "      order_ts_diff-skew  quantity_diff-mean  quantity_diff-skew  \\\n",
              "0               3.439852        -1613.586957           -4.214331   \n",
              "1               6.372104            0.000000            0.304318   \n",
              "2               4.710186           -0.460000            0.066540   \n",
              "3               9.890780            0.011173           -0.099464   \n",
              "4               0.000000            0.000000           -0.831202   \n",
              "...                  ...                 ...                 ...   \n",
              "5909           14.044305            0.010147            0.138229   \n",
              "5910            5.291503           -0.071429           -0.256523   \n",
              "5911            0.000000           -0.090909            0.008851   \n",
              "5912            7.469056           -0.144928            0.525894   \n",
              "5913            5.909084            0.167742           -0.255582   \n",
              "\n",
              "      price_diff-mean  price_diff-sum  price_diff-skew  total_diff-mean  \\\n",
              "0       -1.241087e-01   -5.709000e+00        -0.840908    -2.770156e+03   \n",
              "1       -7.857143e-03   -1.650000e+00         0.840331    -4.714286e-02   \n",
              "2        1.301850e+00    6.509250e+01         0.251831     8.844000e-01   \n",
              "3        2.730796e+00    4.888125e+02         1.905593     2.799930e+00   \n",
              "4        4.440892e-16    7.105427e-15         0.079587     2.220446e-16   \n",
              "...               ...             ...              ...              ...   \n",
              "5909     1.543968e-03    1.369500e+00         0.277995     3.636697e-02   \n",
              "5910    -1.473214e+00   -4.125000e+01        -3.123508    -4.419643e+00   \n",
              "5911     5.257500e+00    5.783250e+01         2.748160     3.015000e+00   \n",
              "5912     1.492174e-01    1.029600e+01         0.599378    -4.782609e-04   \n",
              "5913    -2.405806e-02   -3.729000e+00        -0.137642     1.283806e-01   \n",
              "\n",
              "      total_diff-skew  Label   Score  \n",
              "0           -4.214047      0  0.0375  \n",
              "1            0.041801      0  0.2416  \n",
              "2           -0.069972      0  0.0815  \n",
              "3            1.341806      0  0.1031  \n",
              "4            0.404341      0  0.0771  \n",
              "...               ...    ...     ...  \n",
              "5909         0.573504      1  0.7755  \n",
              "5910        -2.121658      0  0.0501  \n",
              "5911         0.195896      0  0.0155  \n",
              "5912        -0.130166      0  0.0617  \n",
              "5913         0.163004      0  0.1629  \n",
              "\n",
              "[5914 rows x 71 columns]"
            ],
            "text/html": "<div>\n<style scoped>\n    .dataframe tbody tr th:only-of-type {\n        vertical-align: middle;\n    }\n\n    .dataframe tbody tr th {\n        vertical-align: top;\n    }\n\n    .dataframe thead th {\n        text-align: right;\n    }\n</style>\n<table border=\"1\" class=\"dataframe\">\n  <thead>\n    <tr style=\"text-align: right;\">\n      <th></th>\n      <th>label</th>\n      <th>quantity-mean</th>\n      <th>quantity-max</th>\n      <th>quantity-sum</th>\n      <th>quantity-count</th>\n      <th>quantity-skew</th>\n      <th>price-mean</th>\n      <th>price-max</th>\n      <th>price-sum</th>\n      <th>price-skew</th>\n      <th>...</th>\n      <th>order_ts_diff-skew</th>\n      <th>quantity_diff-mean</th>\n      <th>quantity_diff-skew</th>\n      <th>price_diff-mean</th>\n      <th>price_diff-sum</th>\n      <th>price_diff-skew</th>\n      <th>total_diff-mean</th>\n      <th>total_diff-skew</th>\n      <th>Label</th>\n      <th>Score</th>\n    </tr>\n  </thead>\n  <tbody>\n    <tr>\n      <th>0</th>\n      <td>0</td>\n      <td>1.127660</td>\n      <td>74215.0</td>\n      <td>53.0</td>\n      <td>47.0</td>\n      <td>-0.000228</td>\n      <td>19.922872</td>\n      <td>234.8115</td>\n      <td>936.3750</td>\n      <td>4.547689</td>\n      <td>...</td>\n      <td>3.439852</td>\n      <td>-1613.586957</td>\n      <td>-4.214331</td>\n      <td>-1.241087e-01</td>\n      <td>-5.709000e+00</td>\n      <td>-0.840908</td>\n      <td>-2.770156e+03</td>\n      <td>-4.214047</td>\n      <td>0</td>\n      <td>0.0375</td>\n    </tr>\n    <tr>\n      <th>1</th>\n      <td>0</td>\n      <td>13.151659</td>\n      <td>240.0</td>\n      <td>2775.0</td>\n      <td>211.0</td>\n      <td>10.216574</td>\n      <td>4.230803</td>\n      <td>21.0375</td>\n      <td>892.6995</td>\n      <td>2.511623</td>\n      <td>...</td>\n      <td>6.372104</td>\n      <td>0.000000</td>\n      <td>0.304318</td>\n      <td>-7.857143e-03</td>\n      <td>-1.650000e+00</td>\n      <td>0.840331</td>\n      <td>-4.714286e-02</td>\n      <td>0.041801</td>\n      <td>0</td>\n      <td>0.2416</td>\n    </tr>\n    <tr>\n      <th>2</th>\n      <td>0</td>\n      <td>53.215686</td>\n      <td>144.0</td>\n      <td>2714.0</td>\n      <td>51.0</td>\n      <td>0.822147</td>\n      <td>6.247353</td>\n      <td>66.0000</td>\n      <td>318.6150</td>\n      <td>3.224035</td>\n      <td>...</td>\n      <td>4.710186</td>\n      <td>-0.460000</td>\n      <td>0.066540</td>\n      <td>1.301850e+00</td>\n      <td>6.509250e+01</td>\n      <td>0.251831</td>\n      <td>8.844000e-01</td>\n      <td>-0.069972</td>\n      <td>0</td>\n      <td>0.0815</td>\n    </tr>\n    <tr>\n      <th>3</th>\n      <td>0</td>\n      <td>8.994444</td>\n      <td>48.0</td>\n      <td>1619.0</td>\n      <td>180.0</td>\n      <td>1.718638</td>\n      <td>13.792075</td>\n      <td>495.0000</td>\n      <td>2482.5735</td>\n      <td>7.661229</td>\n      <td>...</td>\n      <td>9.890780</td>\n      <td>0.011173</td>\n      <td>-0.099464</td>\n      <td>2.730796e+00</td>\n      <td>4.888125e+02</td>\n      <td>1.905593</td>\n      <td>2.799930e+00</td>\n      <td>1.341806</td>\n      <td>0</td>\n      <td>0.1031</td>\n    </tr>\n    <tr>\n      <th>4</th>\n      <td>0</td>\n      <td>11.588235</td>\n      <td>24.0</td>\n      <td>197.0</td>\n      <td>17.0</td>\n      <td>0.472554</td>\n      <td>6.337941</td>\n      <td>66.0000</td>\n      <td>107.7450</td>\n      <td>4.098028</td>\n      <td>...</td>\n      <td>0.000000</td>\n      <td>0.000000</td>\n      <td>-0.831202</td>\n      <td>4.440892e-16</td>\n      <td>7.105427e-15</td>\n      <td>0.079587</td>\n      <td>2.220446e-16</td>\n      <td>0.404341</td>\n      <td>0</td>\n      <td>0.0771</td>\n    </tr>\n    <tr>\n      <th>...</th>\n      <td>...</td>\n      <td>...</td>\n      <td>...</td>\n      <td>...</td>\n      <td>...</td>\n      <td>...</td>\n      <td>...</td>\n      <td>...</td>\n      <td>...</td>\n      <td>...</td>\n      <td>...</td>\n      <td>...</td>\n      <td>...</td>\n      <td>...</td>\n      <td>...</td>\n      <td>...</td>\n      <td>...</td>\n      <td>...</td>\n      <td>...</td>\n      <td>...</td>\n      <td>...</td>\n    </tr>\n    <tr>\n      <th>5909</th>\n      <td>0</td>\n      <td>1.730856</td>\n      <td>13.0</td>\n      <td>1537.0</td>\n      <td>888.0</td>\n      <td>4.464300</td>\n      <td>2.947368</td>\n      <td>26.3175</td>\n      <td>2617.2630</td>\n      <td>3.900581</td>\n      <td>...</td>\n      <td>14.044305</td>\n      <td>0.010147</td>\n      <td>0.138229</td>\n      <td>1.543968e-03</td>\n      <td>1.369500e+00</td>\n      <td>0.277995</td>\n      <td>3.636697e-02</td>\n      <td>0.573504</td>\n      <td>1</td>\n      <td>0.7755</td>\n    </tr>\n    <tr>\n      <th>5910</th>\n      <td>0</td>\n      <td>17.000000</td>\n      <td>50.0</td>\n      <td>493.0</td>\n      <td>29.0</td>\n      <td>1.006840</td>\n      <td>6.605121</td>\n      <td>82.5000</td>\n      <td>191.5485</td>\n      <td>4.144780</td>\n      <td>...</td>\n      <td>5.291503</td>\n      <td>-0.071429</td>\n      <td>-0.256523</td>\n      <td>-1.473214e+00</td>\n      <td>-4.125000e+01</td>\n      <td>-3.123508</td>\n      <td>-4.419643e+00</td>\n      <td>-2.121658</td>\n      <td>0</td>\n      <td>0.0501</td>\n    </tr>\n    <tr>\n      <th>5911</th>\n      <td>0</td>\n      <td>12.083333</td>\n      <td>80.0</td>\n      <td>145.0</td>\n      <td>12.0</td>\n      <td>3.258881</td>\n      <td>13.777500</td>\n      <td>82.5000</td>\n      <td>165.3300</td>\n      <td>2.931939</td>\n      <td>...</td>\n      <td>0.000000</td>\n      <td>-0.090909</td>\n      <td>0.008851</td>\n      <td>5.257500e+00</td>\n      <td>5.783250e+01</td>\n      <td>2.748160</td>\n      <td>3.015000e+00</td>\n      <td>0.195896</td>\n      <td>0</td>\n      <td>0.0155</td>\n    </tr>\n    <tr>\n      <th>5912</th>\n      <td>0</td>\n      <td>8.457143</td>\n      <td>36.0</td>\n      <td>592.0</td>\n      <td>70.0</td>\n      <td>1.525244</td>\n      <td>7.225821</td>\n      <td>82.5000</td>\n      <td>505.8075</td>\n      <td>4.944969</td>\n      <td>...</td>\n      <td>7.469056</td>\n      <td>-0.144928</td>\n      <td>0.525894</td>\n      <td>1.492174e-01</td>\n      <td>1.029600e+01</td>\n      <td>0.599378</td>\n      <td>-4.782609e-04</td>\n      <td>-0.130166</td>\n      <td>0</td>\n      <td>0.0617</td>\n    </tr>\n    <tr>\n      <th>5913</th>\n      <td>0</td>\n      <td>19.301282</td>\n      <td>60.0</td>\n      <td>3011.0</td>\n      <td>156.0</td>\n      <td>1.007820</td>\n      <td>3.690183</td>\n      <td>82.5000</td>\n      <td>575.6685</td>\n      <td>9.800051</td>\n      <td>...</td>\n      <td>5.909084</td>\n      <td>0.167742</td>\n      <td>-0.255582</td>\n      <td>-2.405806e-02</td>\n      <td>-3.729000e+00</td>\n      <td>-0.137642</td>\n      <td>1.283806e-01</td>\n      <td>0.163004</td>\n      <td>0</td>\n      <td>0.1629</td>\n    </tr>\n  </tbody>\n</table>\n<p>5914 rows × 71 columns</p>\n</div>"
          },
          "metadata": {},
          "execution_count": 18
        }
      ],
      "source": [
        "predictions['Score']=np.where(predictions['Label']==0, 1-predictions['Score'], predictions['Score'])\n",
        "predictions"
      ],
      "id": "h4MFyZSBUYEY"
    },
    {
      "source": [
        "# 제출 파일 생성"
      ],
      "cell_type": "markdown",
      "metadata": {
        "id": "IA6cZ4aCUYEY"
      },
      "id": "IA6cZ4aCUYEY"
    },
    {
      "cell_type": "code",
      "execution_count": null,
      "metadata": {
        "id": "F5tQcExkUYEY"
      },
      "outputs": [],
      "source": [
        "output_dir = '../output'\n",
        "os.makedirs(output_dir, exist_ok=True)\n",
        "submission = pd.read_csv('../input/sample_submission.csv')\n",
        "submission['probability'] = predictions['Score']\n",
        "submission.to_csv(os.path.join(output_dir, 'output.csv'), index=False)"
      ],
      "id": "F5tQcExkUYEY"
    }
  ],
  "metadata": {
    "kernelspec": {
      "name": "python377jvsc74a57bd098b0a9b7b4eaaa670588a142fd0a9b87eaafe866f1db4228be72b4211d12040f",
      "display_name": "Python 3.7.7 64-bit ('base': conda)"
    },
    "language_info": {
      "codemirror_mode": {
        "name": "ipython",
        "version": 3
      },
      "file_extension": ".py",
      "mimetype": "text/x-python",
      "name": "python",
      "nbconvert_exporter": "python",
      "pygments_lexer": "ipython3",
      "version": "3.7.7"
    },
    "colab": {
      "name": "food.ipynb",
      "provenance": [],
      "collapsed_sections": [],
      "include_colab_link": true
    }
  },
  "nbformat": 4,
  "nbformat_minor": 5
}